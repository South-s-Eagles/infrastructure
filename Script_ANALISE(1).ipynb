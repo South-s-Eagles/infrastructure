{
 "cells": [
  {
   "cell_type": "code",
   "execution_count": null,
   "id": "94e18476-2d38-44ca-97c3-af90adf905e4",
   "metadata": {},
   "outputs": [],
   "source": [
    "# Dependências"
   ]
  },
  {
   "cell_type": "code",
   "execution_count": 1,
   "id": "6e24f2c0-6088-45b7-8958-26f98134394b",
   "metadata": {},
   "outputs": [
    {
     "name": "stdout",
     "output_type": "stream",
     "text": [
      "Requirement already satisfied: pyspark in /opt/homebrew/Cellar/jupyterlab/4.2.5_1/libexec/lib/python3.12/site-packages (3.5.3)\n",
      "Requirement already satisfied: py4j==0.10.9.7 in /opt/homebrew/Cellar/jupyterlab/4.2.5_1/libexec/lib/python3.12/site-packages (from pyspark) (0.10.9.7)\n",
      "Note: you may need to restart the kernel to use updated packages.\n",
      "Requirement already satisfied: pandas in /opt/homebrew/Cellar/jupyterlab/4.2.5_1/libexec/lib/python3.12/site-packages (2.2.3)\n",
      "Requirement already satisfied: numpy>=1.26.0 in /opt/homebrew/Cellar/jupyterlab/4.2.5_1/libexec/lib/python3.12/site-packages (from pandas) (2.1.2)\n",
      "Requirement already satisfied: python-dateutil>=2.8.2 in /opt/homebrew/Cellar/jupyterlab/4.2.5_1/libexec/lib/python3.12/site-packages (from pandas) (2.9.0.post0)\n",
      "Requirement already satisfied: pytz>=2020.1 in /opt/homebrew/Cellar/jupyterlab/4.2.5_1/libexec/lib/python3.12/site-packages (from pandas) (2024.2)\n",
      "Requirement already satisfied: tzdata>=2022.7 in /opt/homebrew/Cellar/jupyterlab/4.2.5_1/libexec/lib/python3.12/site-packages (from pandas) (2024.2)\n",
      "Requirement already satisfied: six>=1.5 in /opt/homebrew/Cellar/jupyterlab/4.2.5_1/libexec/lib/python3.12/site-packages (from python-dateutil>=2.8.2->pandas) (1.16.0)\n",
      "Note: you may need to restart the kernel to use updated packages.\n",
      "Requirement already satisfied: xlrd in /opt/homebrew/Cellar/jupyterlab/4.2.5_1/libexec/lib/python3.12/site-packages (2.0.1)\n",
      "Note: you may need to restart the kernel to use updated packages.\n"
     ]
    }
   ],
   "source": [
    "%pip install pyspark\n",
    "%pip install pandas\n",
    "%pip install xlrd"
   ]
  },
  {
   "cell_type": "code",
   "execution_count": null,
   "id": "20982ebc-d1b8-4e15-9d30-adf72999e69a",
   "metadata": {},
   "outputs": [],
   "source": [
    "# Funções de cálculo "
   ]
  },
  {
   "cell_type": "code",
   "execution_count": 78,
   "id": "21f402d1-7ec6-40e1-8d80-6b21612acaf2",
   "metadata": {},
   "outputs": [],
   "source": [
    "import math\n",
    "\n",
    "def dms_para_dd(graus, minutos, segundos, direcao):\n",
    "    # Converter para graus decimais\n",
    "    decimal = graus + (minutos / 60) + (segundos / 3600)\n",
    "    \n",
    "    # Ajustar o sinal para Sul e Oeste\n",
    "    if direcao in ['S', 'W']:\n",
    "        decimal = -decimal\n",
    "    \n",
    "    return decimal"
   ]
  },
  {
   "cell_type": "code",
   "execution_count": 3,
   "id": "50a57545-2908-49ab-b82c-0ac4ec7747a5",
   "metadata": {},
   "outputs": [],
   "source": [
    "import math\n",
    "\n",
    "def haversine(lat1, lon1, lat2, lon2):\n",
    "    # Raio da Terra em km\n",
    "    R = 6371.0\n",
    "    \n",
    "    # Converter de graus para radianos\n",
    "    lat1 = math.radians(lat1)\n",
    "    lon1 = math.radians(lon1)\n",
    "    lat2 = math.radians(lat2)\n",
    "    lon2 = math.radians(lon2)\n",
    "    \n",
    "    # Diferença de coordenadas\n",
    "    dlat = lat2 - lat1\n",
    "    dlon = lon2 - lon1\n",
    "    \n",
    "    # Fórmula de Haversine\n",
    "    a = math.sin(dlat / 2)**2 + math.cos(lat1) * math.cos(lat2) * math.sin(dlon / 2)**2\n",
    "    c = 2 * math.asin(math.sqrt(a))\n",
    "    \n",
    "    # Distância\n",
    "    distance = R * c\n",
    "    return distance"
   ]
  },
  {
   "cell_type": "code",
   "execution_count": 4,
   "id": "ec8ed81d-9389-4caa-a6d4-6a3eb20e2934",
   "metadata": {},
   "outputs": [],
   "source": [
    "from pyspark.sql import functions as F\n",
    "haversine_udf = F.udf(haversine)"
   ]
  },
  {
   "cell_type": "code",
   "execution_count": null,
   "id": "52aefecb-779a-44cc-b08a-84b5a6a19015",
   "metadata": {},
   "outputs": [],
   "source": [
    "# Spark session"
   ]
  },
  {
   "cell_type": "code",
   "execution_count": 5,
   "id": "5a46d49d-794f-4d3a-b859-68d2041b436d",
   "metadata": {},
   "outputs": [
    {
     "name": "stderr",
     "output_type": "stream",
     "text": [
      "24/10/09 18:53:18 WARN Utils: Your hostname, Ivans-MacBook-Air.local resolves to a loopback address: 127.0.0.1; using 192.168.0.181 instead (on interface en0)\n",
      "24/10/09 18:53:18 WARN Utils: Set SPARK_LOCAL_IP if you need to bind to another address\n",
      "Setting default log level to \"WARN\".\n",
      "To adjust logging level use sc.setLogLevel(newLevel). For SparkR, use setLogLevel(newLevel).\n",
      "24/10/09 18:53:19 WARN NativeCodeLoader: Unable to load native-hadoop library for your platform... using builtin-java classes where applicable\n"
     ]
    }
   ],
   "source": [
    "from pyspark.sql import SparkSession\n",
    "import pandas as pd\n",
    "import pyspark.sql.functions as F\n",
    "\n",
    "spark = SparkSession \\\n",
    "    .builder \\\n",
    "    .appName(\"Analytics e BI\") \\\n",
    "    .getOrCreate()"
   ]
  },
  {
   "cell_type": "code",
   "execution_count": 6,
   "id": "6f83777a-1d7d-4d09-a637-be0a29e09ea4",
   "metadata": {},
   "outputs": [],
   "source": [
    "pd_recl1 = pd.read_csv('./dadosconsumidor2022.csv', skiprows=1, sep=';')\n",
    "reclamacoes_1 = spark.createDataFrame(pd_recl1)"
   ]
  },
  {
   "cell_type": "code",
   "execution_count": 7,
   "id": "ab06c69d-5f74-4c3b-a0e7-4ccb2b0b7ee5",
   "metadata": {},
   "outputs": [],
   "source": [
    "pd_recl2= pd.read_csv('./dadosconsumidor2023.csv', skiprows=1, sep=';')\n",
    "reclamacoes_2 = spark.createDataFrame(pd_recl2)"
   ]
  },
  {
   "cell_type": "code",
   "execution_count": 9,
   "id": "c45503d2-0ea9-4dcb-8612-7171fdaf312b",
   "metadata": {},
   "outputs": [],
   "source": [
    "# Junta as tabelas em uma só"
   ]
  },
  {
   "cell_type": "code",
   "execution_count": 8,
   "id": "fe481dbd-74d8-4b2d-ad6b-0c5be98f9ff0",
   "metadata": {},
   "outputs": [],
   "source": [
    "reclamacoes = reclamacoes_1.union(reclamacoes_2)"
   ]
  },
  {
   "cell_type": "code",
   "execution_count": 9,
   "id": "303c1af2-fa62-404a-8801-07ca7e8d1aed",
   "metadata": {},
   "outputs": [],
   "source": [
    "aeroportos = spark.createDataFrame(pd.read_excel('./aeroportos.xls', skiprows=2))"
   ]
  },
  {
   "cell_type": "code",
   "execution_count": 10,
   "id": "60239058-12c1-4997-bad7-a864fa4eb77d",
   "metadata": {},
   "outputs": [],
   "source": [
    "empresas_aereas = spark.createDataFrame(pd.read_excel('./empresas_aereas.xls', skiprows=3))\\\n",
    "                        .drop('Unnamed: 0','Unnamed: 3')"
   ]
  },
  {
   "cell_type": "code",
   "execution_count": 11,
   "id": "7bb88d86-4d78-4cba-88b5-b34687bd3fda",
   "metadata": {},
   "outputs": [],
   "source": [
    "voos = spark.read.csv('./VRA_20240916110513.csv', sep =';' ,header=True)"
   ]
  },
  {
   "cell_type": "code",
   "execution_count": 39,
   "id": "50934675-5618-4772-8bc4-4bcd7d63dd36",
   "metadata": {
    "collapsed": true,
    "jupyter": {
     "outputs_hidden": true
    }
   },
   "outputs": [
    {
     "name": "stdout",
     "output_type": "stream",
     "text": [
      "Voos: DataFrame[Sigla ICAO Empresa Aérea: string, Empresa Aérea: string, Número Voo: string, Código DI: string, Código Tipo Linha: string, Modelo Equipamento: string, Número de Assentos: string, Sigla ICAO Aeroporto Origem: string, Descrição Aeroporto Origem: string, Partida Prevista: string, Partida Real: string, Sigla ICAO Aeroporto Destino: string, Descrição Aeroporto Destino: string, Chegada Prevista: string, Chegada Real: string, Situação Voo: string, Justificativa: string, Referência: string, Situação Partida: string, Situação Chegada: string]\n",
      "\n",
      "empresas_aereas: DataFrame[Sigla OACI: string, Nome Empresas: string, Nacional ou Estrangeira: string]\n",
      "\n",
      "aeroportos: DataFrame[CÓDIGO OACI: string, CIAD: string, NOME: string, MUNICÍPIO ATENDIDO: string, UF: string, LATITUDE: string, LONGITUDE: string, ALTITUDE: string, OPERAÇÃO: string, DESIGNAÇÃO: string, COMPRIMENTO: string, LARGURA: string, RESISTÊNCIA: string, SUPERFÍCIE: string, DESIGNAÇÃO.1: string, COMPRIMENTO.1: string, LARGURA.1: string, RESISTÊNCIA.1: string, SUPERFÍCIE.1: string, DESIGNAÇÃO.2: string, COMPRIMENTO.2: string, LARGURA.2: string, RESISTÊNCIA.2: string, SUPERFÍCIE.2: string, RAMPA(S) DE APROXIMAÇÃO: string, FORMATO DA ÁREA DE POUSO: string, DIMENSÕES: string, RESISTÊNCIA.3: string, SUPERFÍCIE.3: string, p1: string, p2: string, p3: string, p4: string, PORTARIAS: string, Unnamed: 34: string, Unnamed: 35: string, Unnamed: 36: string, PORTARIA Nº 708/2020 E ALTERAÇÕES: string, PORTARIA Nº 1540/2020\n",
      "A Classe I se divide ainda em I-A, sem voo regular e I-B, com voo regular: string, PORTARIA Nº 2007/2014 E ALTERAÇÕES\n",
      "(* = REGIME TARIFÁRIO DIFERENCIADO): string, AERONAVE CRÍTICA: string, TIPO DE APROX. (CABECEIRAS): string, FREQ. SEMANAL: string, r1: string, r2: string, REFERÊNCIA(S): string, RESTRIÇÃO(ÕES): string, SITUAÇÃO: string, r1.1: string, REFERÊNCIA: string, SITUADO NA AMAZÔNIA LEGAL: string, OBSERVAÇÕES: string]\n",
      "\n",
      "reclamacoes: DataFrame[Gestor: string, Região: string, UF: string, Cidade: string, Ano Abertura: bigint, Mês Abertura: bigint, Data Abertura: string, Data e Hora Resposta: string, Data e Hora Análise: string, Data e Hora Recusa: string, Data Finalização: string, Prazo Resposta: string, Prazo Análise Gestor (em dias): double, Tempo Resposta (em dias): double, Nome Fantasia: string, Área: string, Assunto: string, Grupo Problema: string, Problema: string, Forma Contrato: string, Procurou Empresa: string, Respondida: string, Situação: string, Avaliação Reclamação: string, Nota do Consumidor: double, Edição de Conteúdo: string, Interação do Gestor: string, Código Classificador ANAC: string]\n",
      "\n"
     ]
    }
   ],
   "source": [
    "print(f\"Voos: {voos}\\n\")\n",
    "print(f\"empresas_aereas: {empresas_aereas}\\n\")\n",
    "print(f\"aeroportos: {aeroportos}\\n\")\n",
    "print(f\"reclamacoes: {reclamacoes}\\n\")"
   ]
  },
  {
   "cell_type": "code",
   "execution_count": 36,
   "id": "6325af1a-17b7-4e25-8d2b-29b05801cefd",
   "metadata": {},
   "outputs": [],
   "source": [
    "# Pega apenas voos domésticos"
   ]
  },
  {
   "cell_type": "code",
   "execution_count": 46,
   "id": "fe9359c9-a0d9-42c3-8fdc-19ab53697bd4",
   "metadata": {},
   "outputs": [],
   "source": [
    "voos_domesticos = voos.filter(\n",
    "    (F.col('Descrição Aeroporto Origem').contains('BRASIL'))\n",
    "    &\n",
    "    (F.col('Descrição Aeroporto Destino').contains('BRASIL'))\n",
    ")"
   ]
  },
  {
   "cell_type": "code",
   "execution_count": 41,
   "id": "9636307c-bc07-4956-8ed0-5102111ab71f",
   "metadata": {},
   "outputs": [],
   "source": [
    "# Conta voos domésticos"
   ]
  },
  {
   "cell_type": "code",
   "execution_count": 13,
   "id": "312422bf-3194-4b7a-a154-277f682f84ce",
   "metadata": {},
   "outputs": [
    {
     "name": "stderr",
     "output_type": "stream",
     "text": [
      "                                                                                \r"
     ]
    },
    {
     "data": {
      "text/plain": [
       "1304313"
      ]
     },
     "execution_count": 13,
     "metadata": {},
     "output_type": "execute_result"
    }
   ],
   "source": [
    "voos_domesticos.count()"
   ]
  },
  {
   "cell_type": "code",
   "execution_count": 43,
   "id": "e037d266-ab43-44bc-a596-1dd8fea40867",
   "metadata": {},
   "outputs": [],
   "source": [
    "# Tratando a base de aeroportos"
   ]
  },
  {
   "cell_type": "code",
   "execution_count": 14,
   "id": "767b2d03-4388-4f46-a647-3a048eeb9708",
   "metadata": {},
   "outputs": [
    {
     "name": "stdout",
     "output_type": "stream",
     "text": [
      "root\n",
      " |-- CÓDIGO OACI: string (nullable = true)\n",
      " |-- CIAD: string (nullable = true)\n",
      " |-- NOME: string (nullable = true)\n",
      " |-- MUNICÍPIO ATENDIDO: string (nullable = true)\n",
      " |-- UF: string (nullable = true)\n",
      " |-- LATITUDE: string (nullable = true)\n",
      " |-- LONGITUDE: string (nullable = true)\n",
      " |-- ALTITUDE: string (nullable = true)\n",
      " |-- OPERAÇÃO: string (nullable = true)\n",
      " |-- DESIGNAÇÃO: string (nullable = true)\n",
      " |-- COMPRIMENTO: string (nullable = true)\n",
      " |-- LARGURA: string (nullable = true)\n",
      " |-- RESISTÊNCIA: string (nullable = true)\n",
      " |-- SUPERFÍCIE: string (nullable = true)\n",
      " |-- DESIGNAÇÃO.1: string (nullable = true)\n",
      " |-- COMPRIMENTO.1: string (nullable = true)\n",
      " |-- LARGURA.1: string (nullable = true)\n",
      " |-- RESISTÊNCIA.1: string (nullable = true)\n",
      " |-- SUPERFÍCIE.1: string (nullable = true)\n",
      " |-- DESIGNAÇÃO.2: string (nullable = true)\n",
      " |-- COMPRIMENTO.2: string (nullable = true)\n",
      " |-- LARGURA.2: string (nullable = true)\n",
      " |-- RESISTÊNCIA.2: string (nullable = true)\n",
      " |-- SUPERFÍCIE.2: string (nullable = true)\n",
      " |-- RAMPA(S) DE APROXIMAÇÃO: string (nullable = true)\n",
      " |-- FORMATO DA ÁREA DE POUSO: string (nullable = true)\n",
      " |-- DIMENSÕES: string (nullable = true)\n",
      " |-- RESISTÊNCIA.3: string (nullable = true)\n",
      " |-- SUPERFÍCIE.3: string (nullable = true)\n",
      " |-- p1: string (nullable = true)\n",
      " |-- p2: string (nullable = true)\n",
      " |-- p3: string (nullable = true)\n",
      " |-- p4: string (nullable = true)\n",
      " |-- PORTARIAS: string (nullable = true)\n",
      " |-- Unnamed: 34: string (nullable = true)\n",
      " |-- Unnamed: 35: string (nullable = true)\n",
      " |-- Unnamed: 36: string (nullable = true)\n",
      " |-- PORTARIA Nº 708/2020 E ALTERAÇÕES: string (nullable = true)\n",
      " |-- PORTARIA Nº 1540/2020\\nA Classe I se divide ainda em I-A, sem voo regular e I-B, com voo regular: string (nullable = true)\n",
      " |-- PORTARIA Nº 2007/2014 E ALTERAÇÕES\\n(* = REGIME TARIFÁRIO DIFERENCIADO): string (nullable = true)\n",
      " |-- AERONAVE CRÍTICA: string (nullable = true)\n",
      " |-- TIPO DE APROX. (CABECEIRAS): string (nullable = true)\n",
      " |-- FREQ. SEMANAL: string (nullable = true)\n",
      " |-- r1: string (nullable = true)\n",
      " |-- r2: string (nullable = true)\n",
      " |-- REFERÊNCIA(S): string (nullable = true)\n",
      " |-- RESTRIÇÃO(ÕES): string (nullable = true)\n",
      " |-- SITUAÇÃO: string (nullable = true)\n",
      " |-- r1.1: string (nullable = true)\n",
      " |-- REFERÊNCIA: string (nullable = true)\n",
      " |-- SITUADO NA AMAZÔNIA LEGAL: string (nullable = true)\n",
      " |-- OBSERVAÇÕES: string (nullable = true)\n",
      "\n"
     ]
    }
   ],
   "source": [
    "aeroportos.printSchema()"
   ]
  },
  {
   "cell_type": "code",
   "execution_count": 47,
   "id": "9e459068-9400-4422-ab42-1364e1e21ac8",
   "metadata": {},
   "outputs": [
    {
     "name": "stdout",
     "output_type": "stream",
     "text": [
      "+-----------+------+---------------------+---------------------+---+-------------+--------------+--------+-------------------------------+----------+-----------+-------+--------------+----------+------------+-------------+---------+-------------+------------+------------+-------------+---------+-------------+------------+-----------------------+------------------------+---------+-------------+------------+-----------+-----------+---+---+-----------+-----------+-----------+-----------+---------------------------------+------------------------------------------------------------------------------------------------+-----------------------------------------------------------------------+----------------+---------------------------+-------------+---+---+-------------+--------------+--------+----+----------+-------------------------+-----------+------------------+-------------------+\n",
      "|CÓDIGO OACI|CIAD  |NOME                 |MUNICÍPIO ATENDIDO   |UF |LATITUDE     |LONGITUDE     |ALTITUDE|OPERAÇÃO                       |DESIGNAÇÃO|COMPRIMENTO|LARGURA|RESISTÊNCIA   |SUPERFÍCIE|DESIGNAÇÃO.1|COMPRIMENTO.1|LARGURA.1|RESISTÊNCIA.1|SUPERFÍCIE.1|DESIGNAÇÃO.2|COMPRIMENTO.2|LARGURA.2|RESISTÊNCIA.2|SUPERFÍCIE.2|RAMPA(S) DE APROXIMAÇÃO|FORMATO DA ÁREA DE POUSO|DIMENSÕES|RESISTÊNCIA.3|SUPERFÍCIE.3|p1         |p2         |p3 |p4 |PORTARIAS  |Unnamed: 34|Unnamed: 35|Unnamed: 36|PORTARIA Nº 708/2020 E ALTERAÇÕES|PORTARIA Nº 1540/2020\\nA Classe I se divide ainda em I-A, sem voo regular e I-B, com voo regular|PORTARIA Nº 2007/2014 E ALTERAÇÕES\\n(* = REGIME TARIFÁRIO DIFERENCIADO)|AERONAVE CRÍTICA|TIPO DE APROX. (CABECEIRAS)|FREQ. SEMANAL|r1 |r2 |REFERÊNCIA(S)|RESTRIÇÃO(ÕES)|SITUAÇÃO|r1.1|REFERÊNCIA|SITUADO NA AMAZÔNIA LEGAL|OBSERVAÇÕES|split_lat         |split_long         |\n",
      "+-----------+------+---------------------+---------------------+---+-------------+--------------+--------+-------------------------------+----------+-----------+-------+--------------+----------+------------+-------------+---------+-------------+------------+------------+-------------+---------+-------------+------------+-----------------------+------------------------+---------+-------------+------------+-----------+-----------+---+---+-----------+-----------+-----------+-----------+---------------------------------+------------------------------------------------------------------------------------------------+-----------------------------------------------------------------------+----------------+---------------------------+-------------+---+---+-------------+--------------+--------+----+----------+-------------------------+-----------+------------------+-------------------+\n",
      "|SBAA       |PA0008|CONCEIÇÃO DO ARAGUAIA|CONCEIÇÃO DO ARAGUAIA|PA |8° 20' 55'' S|49° 18' 11'' W|199 m   |VFR Diurno/Noturno e IFR Diurno| 08/26    |1800 m     |30 m   |PCN 47/F/C/X/U|Asfalto   |-           |-            |-        |-            |-           |-           |-            |-        |-            |-           |-                      |-                       |-        |-            |-           |PD1981-0172|PD1993-0516|0  |0  |PD1981-0172|PD1993-0516|NaN        |NaN        |AP-0                             |Classe I                                                                                        |4ª                                                                     |-               |-                          |-            |-  |-  |-            |-             |-       |-   |-         |X                        |-          |[8°, 20', 55'', S]|[49°, 18', 11'', W]|\n",
      "+-----------+------+---------------------+---------------------+---+-------------+--------------+--------+-------------------------------+----------+-----------+-------+--------------+----------+------------+-------------+---------+-------------+------------+------------+-------------+---------+-------------+------------+-----------------------+------------------------+---------+-------------+------------+-----------+-----------+---+---+-----------+-----------+-----------+-----------+---------------------------------+------------------------------------------------------------------------------------------------+-----------------------------------------------------------------------+----------------+---------------------------+-------------+---+---+-------------+--------------+--------+----+----------+-------------------------+-----------+------------------+-------------------+\n",
      "only showing top 1 row\n",
      "\n"
     ]
    }
   ],
   "source": [
    "aeroportos.withColumn('split_lat', F.split('LATITUDE',' '))\\\n",
    "          .withColumn('split_long', F.split('LONGITUDE', ' '))\\\n",
    "          .show(1, False)"
   ]
  },
  {
   "cell_type": "code",
   "execution_count": 48,
   "id": "ea7fbb3b-af71-416a-ab7d-337be33a91d4",
   "metadata": {},
   "outputs": [],
   "source": [
    "colunas_df_aeroportos = ['CÓDIGO OACI','LATITUDE', 'LONGITUDE']\n",
    "aeroportos_origem = aeroportos.select(colunas_df_aeroportos)\n",
    "aeroportos_dest = aeroportos.select(colunas_df_aeroportos)\n",
    "\n",
    "for coluna in aeroportos.columns:\n",
    "  aeroportos_origem = aeroportos_origem.withColumnRenamed(coluna, f'{coluna}_orig')\n",
    "\n",
    "for coluna in aeroportos.columns:\n",
    "  aeroportos_dest = aeroportos_dest.withColumnRenamed(coluna, f'{coluna}_dest')"
   ]
  },
  {
   "cell_type": "code",
   "execution_count": 49,
   "id": "a64200c3-f7a8-45fb-8060-4a5cb42c9d2b",
   "metadata": {},
   "outputs": [
    {
     "name": "stdout",
     "output_type": "stream",
     "text": [
      "Aeroporto dest\n",
      "root\n",
      " |-- CÓDIGO OACI_dest: string (nullable = true)\n",
      " |-- LATITUDE_dest: string (nullable = true)\n",
      " |-- LONGITUDE_dest: string (nullable = true)\n",
      "\n",
      "Aeroporto Origem\n",
      "root\n",
      " |-- CÓDIGO OACI_orig: string (nullable = true)\n",
      " |-- LATITUDE_orig: string (nullable = true)\n",
      " |-- LONGITUDE_orig: string (nullable = true)\n",
      "\n"
     ]
    }
   ],
   "source": [
    "print(\"Aeroporto dest\")\n",
    "aeroportos_dest.printSchema()\n",
    "print(\"Aeroporto Origem\")\n",
    "aeroportos_origem.printSchema()"
   ]
  },
  {
   "cell_type": "code",
   "execution_count": 50,
   "id": "9f8a89c6-fae4-4bae-82ae-cc7b998b0afa",
   "metadata": {},
   "outputs": [
    {
     "name": "stdout",
     "output_type": "stream",
     "text": [
      "+----------------+-------------+--------------+\n",
      "|CÓDIGO OACI_orig|LATITUDE_orig|LONGITUDE_orig|\n",
      "+----------------+-------------+--------------+\n",
      "|SBAA            |8° 20' 55'' S|49° 18' 11'' W|\n",
      "+----------------+-------------+--------------+\n",
      "only showing top 1 row\n",
      "\n",
      "+----------------+-------------+--------------+\n",
      "|CÓDIGO OACI_dest|LATITUDE_dest|LONGITUDE_dest|\n",
      "+----------------+-------------+--------------+\n",
      "|            SBAA|8° 20' 55'' S|49° 18' 11'' W|\n",
      "+----------------+-------------+--------------+\n",
      "only showing top 1 row\n",
      "\n"
     ]
    }
   ],
   "source": [
    "aeroportos_origem.show(1, False)\n",
    "aeroportos_dest.show(1, True)"
   ]
  },
  {
   "cell_type": "code",
   "execution_count": 51,
   "id": "070bd5ad-a4d7-4b61-8c33-195b2a5f7b14",
   "metadata": {},
   "outputs": [],
   "source": [
    "aeroportos_voo_orig = voos.join(aeroportos_origem, (F.col('Sigla ICAO Aeroporto Origem') == F.col('CÓDIGO OACI_orig')))\n",
    "\n",
    "aeroportos_voo_orig_dest = aeroportos_voo_orig.join(aeroportos_dest, (F.col('Sigla ICAO Aeroporto Origem') == F.col('CÓDIGO OACI_dest')), 'left')"
   ]
  },
  {
   "cell_type": "code",
   "execution_count": 83,
   "id": "d14cd65c-0660-4f7d-8ad7-474bbb8e12db",
   "metadata": {},
   "outputs": [
    {
     "name": "stderr",
     "output_type": "stream",
     "text": [
      "                                                                                \r"
     ]
    },
    {
     "name": "stdout",
     "output_type": "stream",
     "text": [
      "-RECORD 0-----------------------------------------------------------------------------\n",
      " Sigla ICAO Empresa Aérea     | ACN                                                   \n",
      " Empresa Aérea                | AZUL CONECTA LTDA. (EX TWO TAXI AEREO LTDA)           \n",
      " Número Voo                   | 5991                                                  \n",
      " Código DI                    | 6                                                     \n",
      " Código Tipo Linha            | N                                                     \n",
      " Modelo Equipamento           | C208                                                  \n",
      " Número de Assentos           | 0                                                     \n",
      " Sigla ICAO Aeroporto Origem  | SBPS                                                  \n",
      " Descrição Aeroporto Origem   | PORTO SEGURO - PORTO SEGURO - BA - BRASIL             \n",
      " Partida Prevista             | NULL                                                  \n",
      " Partida Real                 | 28/01/2023 13:28                                      \n",
      " Sigla ICAO Aeroporto Destino | SBJD                                                  \n",
      " Descrição Aeroporto Destino  | AEROPORTO ESTADUAL DE JUNDIAÍ - JUNDIAÍ - SP - BRASIL \n",
      " Chegada Prevista             | NULL                                                  \n",
      " Chegada Real                 | 28/01/2023 17:50                                      \n",
      " Situação Voo                 | REALIZADO                                             \n",
      " Justificativa                | NULL                                                  \n",
      " Referência                   | 28/01/2023 00:00:00                                   \n",
      " Situação Partida             | NULL                                                  \n",
      " Situação Chegada             | NULL                                                  \n",
      " CÓDIGO OACI_orig             | SBPS                                                  \n",
      " LATITUDE_orig                | 16° 26' 17'' S                                        \n",
      " LONGITUDE_orig               | 39° 4' 40'' W                                         \n",
      " CÓDIGO OACI_dest             | SBPS                                                  \n",
      " LATITUDE_dest                | 16° 26' 17'' S                                        \n",
      " LONGITUDE_dest               | 39° 4' 40'' W                                         \n",
      "only showing top 1 row\n",
      "\n"
     ]
    }
   ],
   "source": [
    "aeroportos_voo_orig_dest.show(1, False, vertical=True)"
   ]
  },
  {
   "cell_type": "code",
   "execution_count": 76,
   "id": "d4c271e3-21b8-404c-a10f-3b77fa06e690",
   "metadata": {},
   "outputs": [],
   "source": [
    "from pyspark.sql.types import FloatType\n",
    "dms_para_dd_udf_spark = F.udf(dms_para_dd_udf, FloatType())"
   ]
  },
  {
   "cell_type": "code",
   "execution_count": 89,
   "id": "ce11c6d2-acec-493d-b8da-e5f965b254c0",
   "metadata": {},
   "outputs": [],
   "source": [
    "def extrair_dms(dms_str):\n",
    "    match = re.match(r\"(\\d+)° (\\d+)' (\\d+)'' ([NSWE])\", dms_str)\n",
    "    if match:\n",
    "        graus = int(match.group(1))\n",
    "        minutos = int(match.group(2))\n",
    "        segundos = int(match.group(3))\n",
    "        direcao = match.group(4)\n",
    "        return (graus, minutos, segundos, direcao)\n",
    "    return (None, None, None, None)\n",
    "\n",
    "# Função UDF que aplica a conversão\n",
    "def dms_converter_udf(dms_str):\n",
    "    graus, minutos, segundos, direcao = extrair_dms(dms_str)\n",
    "    if graus is not None:\n",
    "        return dms_para_dd(graus, minutos, segundos, direcao)\n",
    "    return None"
   ]
  },
  {
   "cell_type": "code",
   "execution_count": 90,
   "id": "5698162c-38e0-449d-b03c-a0503863d799",
   "metadata": {},
   "outputs": [],
   "source": [
    "dms_udf = F.udf(dms_converter_udf, FloatType())\n",
    "\n",
    "# Aplicar a função no DataFrame para converter as colunas\n",
    "df = aeroportos_voo_orig_dest \\\n",
    "    .withColumn(\"LAT_DEC_orig\", dms_udf(F.col(\"LATITUDE_orig\"))) \\\n",
    "    .withColumn(\"LONG_DEC_orig\", dms_udf(F.col(\"LONGITUDE_orig\"))) \\\n",
    "    .withColumn(\"LAT_DEC_dest\", dms_udf(F.col(\"LATITUDE_dest\"))) \\\n",
    "    .withColumn(\"LONG_DEC_dest\", dms_udf(F.col(\"LONGITUDE_dest\")))"
   ]
  },
  {
   "cell_type": "code",
   "execution_count": 92,
   "id": "bb363c84-a8b3-45e5-8bdc-2624d0a080cf",
   "metadata": {},
   "outputs": [],
   "source": [
    "df_with_distance = df.withColumn('Distância (km)', haversine_udf(\n",
    "    F.col('LAT_DEC_orig'), \n",
    "    F.col('LONG_DEC_orig'), \n",
    "    F.col('LAT_DEC_dest'), \n",
    "    F.col('LONG_DEC_dest')\n",
    "))"
   ]
  },
  {
   "cell_type": "code",
   "execution_count": 94,
   "id": "d67f83e1-6798-4cb0-b60d-348e87cf48b2",
   "metadata": {
    "collapsed": true,
    "jupyter": {
     "outputs_hidden": true
    },
    "scrolled": true
   },
   "outputs": [
    {
     "name": "stderr",
     "output_type": "stream",
     "text": [
      "[Stage 80:==>               (1 + 7) / 8][Stage 81:>                 (0 + 1) / 8]\r"
     ]
    },
    {
     "name": "stdout",
     "output_type": "stream",
     "text": [
      "-RECORD 0-----------------------------------------------------------------------------\n",
      " Sigla ICAO Empresa Aérea     | ACN                                                   \n",
      " Empresa Aérea                | AZUL CONECTA LTDA. (EX TWO TAXI AEREO LTDA)           \n",
      " Número Voo                   | 5991                                                  \n",
      " Código DI                    | 6                                                     \n",
      " Código Tipo Linha            | N                                                     \n",
      " Modelo Equipamento           | C208                                                  \n",
      " Número de Assentos           | 0                                                     \n",
      " Sigla ICAO Aeroporto Origem  | SBPS                                                  \n",
      " Descrição Aeroporto Origem   | PORTO SEGURO - PORTO SEGURO - BA - BRASIL             \n",
      " Partida Prevista             | NULL                                                  \n",
      " Partida Real                 | 28/01/2023 13:28                                      \n",
      " Sigla ICAO Aeroporto Destino | SBJD                                                  \n",
      " Descrição Aeroporto Destino  | AEROPORTO ESTADUAL DE JUNDIAÍ - JUNDIAÍ - SP - BRASIL \n",
      " Chegada Prevista             | NULL                                                  \n",
      " Chegada Real                 | 28/01/2023 17:50                                      \n",
      " Situação Voo                 | REALIZADO                                             \n",
      " Justificativa                | NULL                                                  \n",
      " Referência                   | 28/01/2023 00:00:00                                   \n",
      " Situação Partida             | NULL                                                  \n",
      " Situação Chegada             | NULL                                                  \n",
      " CÓDIGO OACI_orig             | SBPS                                                  \n",
      " LATITUDE_orig                | 16° 26' 17'' S                                        \n",
      " LONGITUDE_orig               | 39° 4' 40'' W                                         \n",
      " CÓDIGO OACI_dest             | SBPS                                                  \n",
      " LATITUDE_dest                | 16° 26' 17'' S                                        \n",
      " LONGITUDE_dest               | 39° 4' 40'' W                                         \n",
      " LAT_DEC_orig                 | -16.438055                                            \n",
      " LONG_DEC_orig                | -39.077778                                            \n",
      " LAT_DEC_dest                 | -16.438055                                            \n",
      " LONG_DEC_dest                | -39.077778                                            \n",
      " Distância (km)               | 0.0                                                   \n",
      "-RECORD 1-----------------------------------------------------------------------------\n",
      " Sigla ICAO Empresa Aérea     | ACN                                                   \n",
      " Empresa Aérea                | AZUL CONECTA LTDA. (EX TWO TAXI AEREO LTDA)           \n",
      " Número Voo                   | 5976                                                  \n",
      " Código DI                    | 6                                                     \n",
      " Código Tipo Linha            | N                                                     \n",
      " Modelo Equipamento           | C208                                                  \n",
      " Número de Assentos           | 0                                                     \n",
      " Sigla ICAO Aeroporto Origem  | SBPS                                                  \n",
      " Descrição Aeroporto Origem   | PORTO SEGURO - PORTO SEGURO - BA - BRASIL             \n",
      " Partida Prevista             | NULL                                                  \n",
      " Partida Real                 | 23/05/2023 13:10                                      \n",
      " Sigla ICAO Aeroporto Destino | SBRF                                                  \n",
      " Descrição Aeroporto Destino  | GUARARAPES - GILBERTO FREYRE - RECIFE - PE - BRASIL   \n",
      " Chegada Prevista             | NULL                                                  \n",
      " Chegada Real                 | 23/05/2023 17:07                                      \n",
      " Situação Voo                 | REALIZADO                                             \n",
      " Justificativa                | NULL                                                  \n",
      " Referência                   | 23/05/2023 00:00:00                                   \n",
      " Situação Partida             | NULL                                                  \n",
      " Situação Chegada             | NULL                                                  \n",
      " CÓDIGO OACI_orig             | SBPS                                                  \n",
      " LATITUDE_orig                | 16° 26' 17'' S                                        \n",
      " LONGITUDE_orig               | 39° 4' 40'' W                                         \n",
      " CÓDIGO OACI_dest             | SBPS                                                  \n",
      " LATITUDE_dest                | 16° 26' 17'' S                                        \n",
      " LONGITUDE_dest               | 39° 4' 40'' W                                         \n",
      " LAT_DEC_orig                 | -16.438055                                            \n",
      " LONG_DEC_orig                | -39.077778                                            \n",
      " LAT_DEC_dest                 | -16.438055                                            \n",
      " LONG_DEC_dest                | -39.077778                                            \n",
      " Distância (km)               | 0.0                                                   \n",
      "-RECORD 2-----------------------------------------------------------------------------\n",
      " Sigla ICAO Empresa Aérea     | ACN                                                   \n",
      " Empresa Aérea                | AZUL CONECTA LTDA. (EX TWO TAXI AEREO LTDA)           \n",
      " Número Voo                   | 5978                                                  \n",
      " Código DI                    | 6                                                     \n",
      " Código Tipo Linha            | N                                                     \n",
      " Modelo Equipamento           | C208                                                  \n",
      " Número de Assentos           | 0                                                     \n",
      " Sigla ICAO Aeroporto Origem  | SBPS                                                  \n",
      " Descrição Aeroporto Origem   | PORTO SEGURO - PORTO SEGURO - BA - BRASIL             \n",
      " Partida Prevista             | NULL                                                  \n",
      " Partida Real                 | 24/05/2023 13:30                                      \n",
      " Sigla ICAO Aeroporto Destino | SBJD                                                  \n",
      " Descrição Aeroporto Destino  | AEROPORTO ESTADUAL DE JUNDIAÍ - JUNDIAÍ - SP - BRASIL \n",
      " Chegada Prevista             | NULL                                                  \n",
      " Chegada Real                 | 24/05/2023 17:19                                      \n",
      " Situação Voo                 | REALIZADO                                             \n",
      " Justificativa                | NULL                                                  \n",
      " Referência                   | 24/05/2023 00:00:00                                   \n",
      " Situação Partida             | NULL                                                  \n",
      " Situação Chegada             | NULL                                                  \n",
      " CÓDIGO OACI_orig             | SBPS                                                  \n",
      " LATITUDE_orig                | 16° 26' 17'' S                                        \n",
      " LONGITUDE_orig               | 39° 4' 40'' W                                         \n",
      " CÓDIGO OACI_dest             | SBPS                                                  \n",
      " LATITUDE_dest                | 16° 26' 17'' S                                        \n",
      " LONGITUDE_dest               | 39° 4' 40'' W                                         \n",
      " LAT_DEC_orig                 | -16.438055                                            \n",
      " LONG_DEC_orig                | -39.077778                                            \n",
      " LAT_DEC_dest                 | -16.438055                                            \n",
      " LONG_DEC_dest                | -39.077778                                            \n",
      " Distância (km)               | 0.0                                                   \n",
      "-RECORD 3-----------------------------------------------------------------------------\n",
      " Sigla ICAO Empresa Aérea     | ACN                                                   \n",
      " Empresa Aérea                | AZUL CONECTA LTDA. (EX TWO TAXI AEREO LTDA)           \n",
      " Número Voo                   | 5941                                                  \n",
      " Código DI                    | 6                                                     \n",
      " Código Tipo Linha            | N                                                     \n",
      " Modelo Equipamento           | C208                                                  \n",
      " Número de Assentos           | 0                                                     \n",
      " Sigla ICAO Aeroporto Origem  | SBPS                                                  \n",
      " Descrição Aeroporto Origem   | PORTO SEGURO - PORTO SEGURO - BA - BRASIL             \n",
      " Partida Prevista             | NULL                                                  \n",
      " Partida Real                 | 14/06/2023 12:45                                      \n",
      " Sigla ICAO Aeroporto Destino | SBRF                                                  \n",
      " Descrição Aeroporto Destino  | GUARARAPES - GILBERTO FREYRE - RECIFE - PE - BRASIL   \n",
      " Chegada Prevista             | NULL                                                  \n",
      " Chegada Real                 | 14/06/2023 16:56                                      \n",
      " Situação Voo                 | REALIZADO                                             \n",
      " Justificativa                | NULL                                                  \n",
      " Referência                   | 14/06/2023 00:00:00                                   \n",
      " Situação Partida             | NULL                                                  \n",
      " Situação Chegada             | NULL                                                  \n",
      " CÓDIGO OACI_orig             | SBPS                                                  \n",
      " LATITUDE_orig                | 16° 26' 17'' S                                        \n",
      " LONGITUDE_orig               | 39° 4' 40'' W                                         \n",
      " CÓDIGO OACI_dest             | SBPS                                                  \n",
      " LATITUDE_dest                | 16° 26' 17'' S                                        \n",
      " LONGITUDE_dest               | 39° 4' 40'' W                                         \n",
      " LAT_DEC_orig                 | -16.438055                                            \n",
      " LONG_DEC_orig                | -39.077778                                            \n",
      " LAT_DEC_dest                 | -16.438055                                            \n",
      " LONG_DEC_dest                | -39.077778                                            \n",
      " Distância (km)               | 0.0                                                   \n",
      "-RECORD 4-----------------------------------------------------------------------------\n",
      " Sigla ICAO Empresa Aérea     | ACN                                                   \n",
      " Empresa Aérea                | AZUL CONECTA LTDA. (EX TWO TAXI AEREO LTDA)           \n",
      " Número Voo                   | 5943                                                  \n",
      " Código DI                    | 6                                                     \n",
      " Código Tipo Linha            | N                                                     \n",
      " Modelo Equipamento           | C208                                                  \n",
      " Número de Assentos           | 0                                                     \n",
      " Sigla ICAO Aeroporto Origem  | SBPS                                                  \n",
      " Descrição Aeroporto Origem   | PORTO SEGURO - PORTO SEGURO - BA - BRASIL             \n",
      " Partida Prevista             | NULL                                                  \n",
      " Partida Real                 | 15/06/2023 12:50                                      \n",
      " Sigla ICAO Aeroporto Destino | SBCF                                                  \n",
      " Descrição Aeroporto Destino  | TANCREDO NEVES - CONFINS - MG - BRASIL                \n",
      " Chegada Prevista             | NULL                                                  \n",
      " Chegada Real                 | 15/06/2023 15:15                                      \n",
      " Situação Voo                 | REALIZADO                                             \n",
      " Justificativa                | NULL                                                  \n",
      " Referência                   | 15/06/2023 00:00:00                                   \n",
      " Situação Partida             | NULL                                                  \n",
      " Situação Chegada             | NULL                                                  \n",
      " CÓDIGO OACI_orig             | SBPS                                                  \n",
      " LATITUDE_orig                | 16° 26' 17'' S                                        \n",
      " LONGITUDE_orig               | 39° 4' 40'' W                                         \n",
      " CÓDIGO OACI_dest             | SBPS                                                  \n",
      " LATITUDE_dest                | 16° 26' 17'' S                                        \n",
      " LONGITUDE_dest               | 39° 4' 40'' W                                         \n",
      " LAT_DEC_orig                 | -16.438055                                            \n",
      " LONG_DEC_orig                | -39.077778                                            \n",
      " LAT_DEC_dest                 | -16.438055                                            \n",
      " LONG_DEC_dest                | -39.077778                                            \n",
      " Distância (km)               | 0.0                                                   \n",
      "-RECORD 5-----------------------------------------------------------------------------\n",
      " Sigla ICAO Empresa Aérea     | ACN                                                   \n",
      " Empresa Aérea                | AZUL CONECTA LTDA. (EX TWO TAXI AEREO LTDA)           \n",
      " Número Voo                   | 5922                                                  \n",
      " Código DI                    | 2                                                     \n",
      " Código Tipo Linha            | N                                                     \n",
      " Modelo Equipamento           | C208                                                  \n",
      " Número de Assentos           | 0                                                     \n",
      " Sigla ICAO Aeroporto Origem  | SBPS                                                  \n",
      " Descrição Aeroporto Origem   | PORTO SEGURO - PORTO SEGURO - BA - BRASIL             \n",
      " Partida Prevista             | NULL                                                  \n",
      " Partida Real                 | 05/08/2023 14:37                                      \n",
      " Sigla ICAO Aeroporto Destino | SBRF                                                  \n",
      " Descrição Aeroporto Destino  | GUARARAPES - GILBERTO FREYRE - RECIFE - PE - BRASIL   \n",
      " Chegada Prevista             | NULL                                                  \n",
      " Chegada Real                 | 05/08/2023 18:20                                      \n",
      " Situação Voo                 | REALIZADO                                             \n",
      " Justificativa                | NULL                                                  \n",
      " Referência                   | 05/08/2023 00:00:00                                   \n",
      " Situação Partida             | NULL                                                  \n",
      " Situação Chegada             | NULL                                                  \n",
      " CÓDIGO OACI_orig             | SBPS                                                  \n",
      " LATITUDE_orig                | 16° 26' 17'' S                                        \n",
      " LONGITUDE_orig               | 39° 4' 40'' W                                         \n",
      " CÓDIGO OACI_dest             | SBPS                                                  \n",
      " LATITUDE_dest                | 16° 26' 17'' S                                        \n",
      " LONGITUDE_dest               | 39° 4' 40'' W                                         \n",
      " LAT_DEC_orig                 | -16.438055                                            \n",
      " LONG_DEC_orig                | -39.077778                                            \n",
      " LAT_DEC_dest                 | -16.438055                                            \n",
      " LONG_DEC_dest                | -39.077778                                            \n",
      " Distância (km)               | 0.0                                                   \n",
      "-RECORD 6-----------------------------------------------------------------------------\n",
      " Sigla ICAO Empresa Aérea     | ACN                                                   \n",
      " Empresa Aérea                | AZUL CONECTA LTDA. (EX TWO TAXI AEREO LTDA)           \n",
      " Número Voo                   | 5935                                                  \n",
      " Código DI                    | 2                                                     \n",
      " Código Tipo Linha            | N                                                     \n",
      " Modelo Equipamento           | C208                                                  \n",
      " Número de Assentos           | 0                                                     \n",
      " Sigla ICAO Aeroporto Origem  | SBPS                                                  \n",
      " Descrição Aeroporto Origem   | PORTO SEGURO - PORTO SEGURO - BA - BRASIL             \n",
      " Partida Prevista             | NULL                                                  \n",
      " Partida Real                 | 06/08/2023 14:05                                      \n",
      " Sigla ICAO Aeroporto Destino | SBJD                                                  \n",
      " Descrição Aeroporto Destino  | AEROPORTO ESTADUAL DE JUNDIAÍ - JUNDIAÍ - SP - BRASIL \n",
      " Chegada Prevista             | NULL                                                  \n",
      " Chegada Real                 | 06/08/2023 18:10                                      \n",
      " Situação Voo                 | REALIZADO                                             \n",
      " Justificativa                | NULL                                                  \n",
      " Referência                   | 06/08/2023 00:00:00                                   \n",
      " Situação Partida             | NULL                                                  \n",
      " Situação Chegada             | NULL                                                  \n",
      " CÓDIGO OACI_orig             | SBPS                                                  \n",
      " LATITUDE_orig                | 16° 26' 17'' S                                        \n",
      " LONGITUDE_orig               | 39° 4' 40'' W                                         \n",
      " CÓDIGO OACI_dest             | SBPS                                                  \n",
      " LATITUDE_dest                | 16° 26' 17'' S                                        \n",
      " LONGITUDE_dest               | 39° 4' 40'' W                                         \n",
      " LAT_DEC_orig                 | -16.438055                                            \n",
      " LONG_DEC_orig                | -39.077778                                            \n",
      " LAT_DEC_dest                 | -16.438055                                            \n",
      " LONG_DEC_dest                | -39.077778                                            \n",
      " Distância (km)               | 0.0                                                   \n",
      "-RECORD 7-----------------------------------------------------------------------------\n",
      " Sigla ICAO Empresa Aérea     | ACN                                                   \n",
      " Empresa Aérea                | AZUL CONECTA LTDA. (EX TWO TAXI AEREO LTDA)           \n",
      " Número Voo                   | 5985                                                  \n",
      " Código DI                    | 2                                                     \n",
      " Código Tipo Linha            | N                                                     \n",
      " Modelo Equipamento           | C208                                                  \n",
      " Número de Assentos           | 0                                                     \n",
      " Sigla ICAO Aeroporto Origem  | SBPS                                                  \n",
      " Descrição Aeroporto Origem   | PORTO SEGURO - PORTO SEGURO - BA - BRASIL             \n",
      " Partida Prevista             | NULL                                                  \n",
      " Partida Real                 | 02/09/2023 19:07                                      \n",
      " Sigla ICAO Aeroporto Destino | SBRF                                                  \n",
      " Descrição Aeroporto Destino  | GUARARAPES - GILBERTO FREYRE - RECIFE - PE - BRASIL   \n",
      " Chegada Prevista             | NULL                                                  \n",
      " Chegada Real                 | 02/09/2023 23:11                                      \n",
      " Situação Voo                 | REALIZADO                                             \n",
      " Justificativa                | NULL                                                  \n",
      " Referência                   | 02/09/2023 00:00:00                                   \n",
      " Situação Partida             | NULL                                                  \n",
      " Situação Chegada             | NULL                                                  \n",
      " CÓDIGO OACI_orig             | SBPS                                                  \n",
      " LATITUDE_orig                | 16° 26' 17'' S                                        \n",
      " LONGITUDE_orig               | 39° 4' 40'' W                                         \n",
      " CÓDIGO OACI_dest             | SBPS                                                  \n",
      " LATITUDE_dest                | 16° 26' 17'' S                                        \n",
      " LONGITUDE_dest               | 39° 4' 40'' W                                         \n",
      " LAT_DEC_orig                 | -16.438055                                            \n",
      " LONG_DEC_orig                | -39.077778                                            \n",
      " LAT_DEC_dest                 | -16.438055                                            \n",
      " LONG_DEC_dest                | -39.077778                                            \n",
      " Distância (km)               | 0.0                                                   \n",
      "-RECORD 8-----------------------------------------------------------------------------\n",
      " Sigla ICAO Empresa Aérea     | ACN                                                   \n",
      " Empresa Aérea                | AZUL CONECTA LTDA. (EX TWO TAXI AEREO LTDA)           \n",
      " Número Voo                   | 5987                                                  \n",
      " Código DI                    | 9                                                     \n",
      " Código Tipo Linha            | N                                                     \n",
      " Modelo Equipamento           | C208                                                  \n",
      " Número de Assentos           | 0                                                     \n",
      " Sigla ICAO Aeroporto Origem  | SBPS                                                  \n",
      " Descrição Aeroporto Origem   | PORTO SEGURO - PORTO SEGURO - BA - BRASIL             \n",
      " Partida Prevista             | NULL                                                  \n",
      " Partida Real                 | 03/09/2023 17:04                                      \n",
      " Sigla ICAO Aeroporto Destino | SBJD                                                  \n",
      " Descrição Aeroporto Destino  | AEROPORTO ESTADUAL DE JUNDIAÍ - JUNDIAÍ - SP - BRASIL \n",
      " Chegada Prevista             | NULL                                                  \n",
      " Chegada Real                 | 03/09/2023 21:04                                      \n",
      " Situação Voo                 | REALIZADO                                             \n",
      " Justificativa                | NULL                                                  \n",
      " Referência                   | 03/09/2023 00:00:00                                   \n",
      " Situação Partida             | NULL                                                  \n",
      " Situação Chegada             | NULL                                                  \n",
      " CÓDIGO OACI_orig             | SBPS                                                  \n",
      " LATITUDE_orig                | 16° 26' 17'' S                                        \n",
      " LONGITUDE_orig               | 39° 4' 40'' W                                         \n",
      " CÓDIGO OACI_dest             | SBPS                                                  \n",
      " LATITUDE_dest                | 16° 26' 17'' S                                        \n",
      " LONGITUDE_dest               | 39° 4' 40'' W                                         \n",
      " LAT_DEC_orig                 | -16.438055                                            \n",
      " LONG_DEC_orig                | -39.077778                                            \n",
      " LAT_DEC_dest                 | -16.438055                                            \n",
      " LONG_DEC_dest                | -39.077778                                            \n",
      " Distância (km)               | 0.0                                                   \n",
      "-RECORD 9-----------------------------------------------------------------------------\n",
      " Sigla ICAO Empresa Aérea     | ACN                                                   \n",
      " Empresa Aérea                | AZUL CONECTA LTDA. (EX TWO TAXI AEREO LTDA)           \n",
      " Número Voo                   | 5951                                                  \n",
      " Código DI                    | 6                                                     \n",
      " Código Tipo Linha            | N                                                     \n",
      " Modelo Equipamento           | C208                                                  \n",
      " Número de Assentos           | 0                                                     \n",
      " Sigla ICAO Aeroporto Origem  | SBPS                                                  \n",
      " Descrição Aeroporto Origem   | PORTO SEGURO - PORTO SEGURO - BA - BRASIL             \n",
      " Partida Prevista             | NULL                                                  \n",
      " Partida Real                 | 07/10/2023 14:00                                      \n",
      " Sigla ICAO Aeroporto Destino | SBRF                                                  \n",
      " Descrição Aeroporto Destino  | GUARARAPES - GILBERTO FREYRE - RECIFE - PE - BRASIL   \n",
      " Chegada Prevista             | NULL                                                  \n",
      " Chegada Real                 | 07/10/2023 18:12                                      \n",
      " Situação Voo                 | REALIZADO                                             \n",
      " Justificativa                | NULL                                                  \n",
      " Referência                   | 07/10/2023 00:00:00                                   \n",
      " Situação Partida             | NULL                                                  \n",
      " Situação Chegada             | NULL                                                  \n",
      " CÓDIGO OACI_orig             | SBPS                                                  \n",
      " LATITUDE_orig                | 16° 26' 17'' S                                        \n",
      " LONGITUDE_orig               | 39° 4' 40'' W                                         \n",
      " CÓDIGO OACI_dest             | SBPS                                                  \n",
      " LATITUDE_dest                | 16° 26' 17'' S                                        \n",
      " LONGITUDE_dest               | 39° 4' 40'' W                                         \n",
      " LAT_DEC_orig                 | -16.438055                                            \n",
      " LONG_DEC_orig                | -39.077778                                            \n",
      " LAT_DEC_dest                 | -16.438055                                            \n",
      " LONG_DEC_dest                | -39.077778                                            \n",
      " Distância (km)               | 0.0                                                   \n",
      "only showing top 10 rows\n",
      "\n"
     ]
    },
    {
     "name": "stderr",
     "output_type": "stream",
     "text": [
      "                                                                                \r"
     ]
    }
   ],
   "source": [
    "df_with_distance.show(10, False, vertical=True)"
   ]
  },
  {
   "cell_type": "code",
   "execution_count": 44,
   "id": "8185ff3e-5d3d-4bec-8393-da3e371ae120",
   "metadata": {},
   "outputs": [],
   "source": [
    "colunas_df_aeroportos = ['CÓDIGO OACI', 'LATITUDE', 'LONGITUDE']\n",
    "aeroportos_origem_fmt = aeroportos.select(colunas_df_aeroportos).withColumnRenamed('CÓDIGO OACI', 'CÓDIGO OACI_orig')\n",
    "aeroportos_dest_fmt = aeroportos.select(colunas_df_aeroportos).withColumnRenamed('CÓDIGO OACI', 'CÓDIGO OACI_dest')\n"
   ]
  },
  {
   "cell_type": "code",
   "execution_count": 33,
   "id": "bebdc1e7-9780-4875-b6a6-f40b84cf7ef5",
   "metadata": {},
   "outputs": [
    {
     "name": "stdout",
     "output_type": "stream",
     "text": [
      "-RECORD 0--------------------------\n",
      " CÓDIGO OACI_orig | SBAA           \n",
      " LATITUDE         | 8° 20' 55'' S  \n",
      " LONGITUDE        | 49° 18' 11'' W \n",
      "only showing top 1 row\n",
      "\n"
     ]
    }
   ],
   "source": [
    "aeroportos_origem_fmt.show(1, False, vertical=True)"
   ]
  },
  {
   "cell_type": "code",
   "execution_count": 55,
   "id": "806520f7-95a3-434e-90be-fa175f737132",
   "metadata": {},
   "outputs": [],
   "source": [
    "aeroportos_voo_orig_join_aoci = voos.join(aeroportos_origem, (F.col('Sigla ICAO Aeroporto Origem') == F.col('CÓDIGO OACI_orig')))\n",
    "aeroportos_voo_orig_dest_aoci = aeroportos_voo_orig.join(aeroportos_dest, (F.col('Sigla ICAO Aeroporto Destino') == F.col('CÓDIGO OACI_dest')))\n"
   ]
  },
  {
   "cell_type": "code",
   "execution_count": 56,
   "id": "6e6c659a-733f-42d6-8f4e-a52ce8dbeb74",
   "metadata": {},
   "outputs": [
    {
     "name": "stderr",
     "output_type": "stream",
     "text": [
      "[Stage 49:==>               (1 + 7) / 8][Stage 50:>                 (0 + 1) / 8]\r"
     ]
    },
    {
     "name": "stdout",
     "output_type": "stream",
     "text": [
      "-RECORD 0-----------------------------------------------------------------------------\n",
      " Sigla ICAO Empresa Aérea     | ACN                                                   \n",
      " Empresa Aérea                | AZUL CONECTA LTDA. (EX TWO TAXI AEREO LTDA)           \n",
      " Número Voo                   | 5991                                                  \n",
      " Código DI                    | 6                                                     \n",
      " Código Tipo Linha            | N                                                     \n",
      " Modelo Equipamento           | C208                                                  \n",
      " Número de Assentos           | 0                                                     \n",
      " Sigla ICAO Aeroporto Origem  | SBPS                                                  \n",
      " Descrição Aeroporto Origem   | PORTO SEGURO - PORTO SEGURO - BA - BRASIL             \n",
      " Partida Prevista             | NULL                                                  \n",
      " Partida Real                 | 28/01/2023 13:28                                      \n",
      " Sigla ICAO Aeroporto Destino | SBJD                                                  \n",
      " Descrição Aeroporto Destino  | AEROPORTO ESTADUAL DE JUNDIAÍ - JUNDIAÍ - SP - BRASIL \n",
      " Chegada Prevista             | NULL                                                  \n",
      " Chegada Real                 | 28/01/2023 17:50                                      \n",
      " Situação Voo                 | REALIZADO                                             \n",
      " Justificativa                | NULL                                                  \n",
      " Referência                   | 28/01/2023 00:00:00                                   \n",
      " Situação Partida             | NULL                                                  \n",
      " Situação Chegada             | NULL                                                  \n",
      " CÓDIGO OACI_orig             | SBPS                                                  \n",
      " LATITUDE_orig                | 16° 26' 17'' S                                        \n",
      " LONGITUDE_orig               | 39° 4' 40'' W                                         \n",
      "only showing top 1 row\n",
      "\n"
     ]
    },
    {
     "name": "stderr",
     "output_type": "stream",
     "text": [
      "                                                                                \r"
     ]
    }
   ],
   "source": [
    "aeroportos_voo_orig_join_aoci.show(1, False, vertical=True)\n",
    "#aeroportos_voo_orig_dest_aoci.show(1, False, vertical=True)"
   ]
  },
  {
   "cell_type": "code",
   "execution_count": 70,
   "id": "1b74ea56-e00a-4121-b844-f12275517732",
   "metadata": {
    "collapsed": true,
    "jupyter": {
     "outputs_hidden": true
    }
   },
   "outputs": [
    {
     "name": "stdout",
     "output_type": "stream",
     "text": [
      "root\n",
      " |-- Sigla ICAO Empresa Aérea: string (nullable = true)\n",
      " |-- Empresa Aérea: string (nullable = true)\n",
      " |-- Número Voo: string (nullable = true)\n",
      " |-- Código DI: string (nullable = true)\n",
      " |-- Código Tipo Linha: string (nullable = true)\n",
      " |-- Modelo Equipamento: string (nullable = true)\n",
      " |-- Número de Assentos: string (nullable = true)\n",
      " |-- Sigla ICAO Aeroporto Origem: string (nullable = true)\n",
      " |-- Descrição Aeroporto Origem: string (nullable = true)\n",
      " |-- Partida Prevista: string (nullable = true)\n",
      " |-- Partida Real: string (nullable = true)\n",
      " |-- Sigla ICAO Aeroporto Destino: string (nullable = true)\n",
      " |-- Descrição Aeroporto Destino: string (nullable = true)\n",
      " |-- Chegada Prevista: string (nullable = true)\n",
      " |-- Chegada Real: string (nullable = true)\n",
      " |-- Situação Voo: string (nullable = true)\n",
      " |-- Justificativa: string (nullable = true)\n",
      " |-- Referência: string (nullable = true)\n",
      " |-- Situação Partida: string (nullable = true)\n",
      " |-- Situação Chegada: string (nullable = true)\n",
      " |-- CÓDIGO OACI_orig: string (nullable = true)\n",
      " |-- LATITUDE_orig: string (nullable = true)\n",
      " |-- LONGITUDE_orig: string (nullable = true)\n",
      " |-- CÓDIGO OACI_dest: string (nullable = true)\n",
      " |-- LATITUDE_dest: string (nullable = true)\n",
      " |-- LONGITUDE_dest: string (nullable = true)\n",
      "\n"
     ]
    }
   ],
   "source": [
    "voos_domesticos.printSchema()"
   ]
  },
  {
   "cell_type": "code",
   "execution_count": 57,
   "id": "0904d14f-8ad2-4602-abc6-ac2cc1a3c998",
   "metadata": {},
   "outputs": [
    {
     "name": "stdout",
     "output_type": "stream",
     "text": [
      "-RECORD 0------------------------------------------------------------------------\n",
      " Sigla ICAO Empresa Aérea     | 1ED                                              \n",
      " Empresa Aérea                | SERVICIOS AÉREOS PANAMERICANOS LTDA. SARPA S.A.S \n",
      " Número Voo                   | 5330                                             \n",
      " Código DI                    | 7                                                \n",
      " Código Tipo Linha            | X                                                \n",
      " Modelo Equipamento           | E145                                             \n",
      " Número de Assentos           | 50                                               \n",
      " Sigla ICAO Aeroporto Origem  | SBCY                                             \n",
      " Descrição Aeroporto Origem   | MARECHAL RONDON - VÁRZEA GRANDE - MT - BRASIL    \n",
      " Partida Prevista             | NULL                                             \n",
      " Partida Real                 | 31/08/2023 07:07                                 \n",
      " Sigla ICAO Aeroporto Destino | SBEG                                             \n",
      " Descrição Aeroporto Destino  | EDUARDO GOMES - MANAUS - AM - BRASIL             \n",
      " Chegada Prevista             | NULL                                             \n",
      " Chegada Real                 | 31/08/2023 09:19                                 \n",
      " Situação Voo                 | REALIZADO                                        \n",
      " Justificativa                | NULL                                             \n",
      " Referência                   | 27/08/2023 00:00:00                              \n",
      " Situação Partida             | NULL                                             \n",
      " Situação Chegada             | NULL                                             \n",
      "only showing top 1 row\n",
      "\n"
     ]
    }
   ],
   "source": [
    "voos_domesticos.show(1, False, vertical=True)"
   ]
  },
  {
   "cell_type": "code",
   "execution_count": null,
   "id": "8fb43351-abfb-4e9e-9421-7298594a5a64",
   "metadata": {},
   "outputs": [],
   "source": [
    "# Join na longitude latitude destino"
   ]
  },
  {
   "cell_type": "code",
   "execution_count": 42,
   "id": "9ac12ecc-cb06-4528-93f8-960660a1da71",
   "metadata": {},
   "outputs": [
    {
     "ename": "AnalysisException",
     "evalue": "[UNRESOLVED_COLUMN.WITH_SUGGESTION] A column or function parameter with name `CÓDIGO OACI_dest` cannot be resolved. Did you mean one of the following? [`Sigla ICAO Empresa Aérea`, `Empresa Aérea`, `Número Voo`, `Código DI`, `Código Tipo Linha`, `Modelo Equipamento`, `Número de Assentos`, `Sigla ICAO Aeroporto Origem`, `Descrição Aeroporto Origem`, `Partida Prevista`, `Partida Real`, `Sigla ICAO Aeroporto Destino`, `Descrição Aeroporto Destino`, `Chegada Prevista`, `Chegada Real`, `Situação Voo`, `Justificativa`, `Referência`, `Situação Partida`, `Situação Chegada`].",
     "output_type": "error",
     "traceback": [
      "\u001b[0;31m---------------------------------------------------------------------------\u001b[0m",
      "\u001b[0;31mAnalysisException\u001b[0m                         Traceback (most recent call last)",
      "Cell \u001b[0;32mIn[42], line 17\u001b[0m\n\u001b[1;32m      1\u001b[0m \u001b[38;5;66;03m#voos_domesticos_aux = voos_domesticos.drop('LONGITUDE_dest')\u001b[39;00m\n\u001b[1;32m      2\u001b[0m \u001b[38;5;66;03m#voos_domesticos_aux = voos_domesticos_aux.drop('LATITUDE_dest')\u001b[39;00m\n\u001b[1;32m      3\u001b[0m \u001b[38;5;66;03m#voos_domesticos_aux = voos_domesticos_aux.drop('LATITUDE_orig')\u001b[39;00m\n\u001b[1;32m      4\u001b[0m \u001b[38;5;66;03m#voos_domesticos_aux = voos_domesticos_aux.drop('LONGITUDE_orig')\u001b[39;00m\n\u001b[1;32m      7\u001b[0m voos_atualizados_dest \u001b[38;5;241m=\u001b[39m voos_domesticos_aux\u001b[38;5;241m.\u001b[39mjoin(\n\u001b[1;32m      8\u001b[0m     aeroportos_voo_orig_dest_aoci\u001b[38;5;241m.\u001b[39mselect(\n\u001b[1;32m      9\u001b[0m         col(\u001b[38;5;124m\"\u001b[39m\u001b[38;5;124mSigla ICAO Empresa Aérea\u001b[39m\u001b[38;5;124m\"\u001b[39m),\n\u001b[1;32m     10\u001b[0m         col(\u001b[38;5;124m\"\u001b[39m\u001b[38;5;124mNúmero Voo\u001b[39m\u001b[38;5;124m\"\u001b[39m),\n\u001b[1;32m     11\u001b[0m         col(\u001b[38;5;124m\"\u001b[39m\u001b[38;5;124mCÓDIGO OACI_dest\u001b[39m\u001b[38;5;124m\"\u001b[39m)\u001b[38;5;241m.\u001b[39malias(\u001b[38;5;124m\"\u001b[39m\u001b[38;5;124mCÓDIGO OACI_dest\u001b[39m\u001b[38;5;124m\"\u001b[39m),\n\u001b[1;32m     12\u001b[0m         col(\u001b[38;5;124m\"\u001b[39m\u001b[38;5;124mLATITUDE_dest\u001b[39m\u001b[38;5;124m\"\u001b[39m),\n\u001b[1;32m     13\u001b[0m         col(\u001b[38;5;124m\"\u001b[39m\u001b[38;5;124mLONGITUDE_dest\u001b[39m\u001b[38;5;124m\"\u001b[39m)\n\u001b[1;32m     14\u001b[0m     ),\n\u001b[1;32m     15\u001b[0m     (voos_domesticos[\u001b[38;5;124m\"\u001b[39m\u001b[38;5;124mSigla ICAO Empresa Aérea\u001b[39m\u001b[38;5;124m\"\u001b[39m] \u001b[38;5;241m==\u001b[39m aeroportos_voo_orig_dest_aoci[\u001b[38;5;124m\"\u001b[39m\u001b[38;5;124mSigla ICAO Empresa Aérea\u001b[39m\u001b[38;5;124m\"\u001b[39m]) \u001b[38;5;241m&\u001b[39m\n\u001b[1;32m     16\u001b[0m     (voos_domesticos[\u001b[38;5;124m\"\u001b[39m\u001b[38;5;124mNúmero Voo\u001b[39m\u001b[38;5;124m\"\u001b[39m] \u001b[38;5;241m==\u001b[39m aeroportos_voo_orig_dest_aoci[\u001b[38;5;124m\"\u001b[39m\u001b[38;5;124mNúmero Voo\u001b[39m\u001b[38;5;124m\"\u001b[39m]) \u001b[38;5;241m&\u001b[39m\n\u001b[0;32m---> 17\u001b[0m     (\u001b[43mvoos_domesticos\u001b[49m\u001b[43m[\u001b[49m\u001b[38;5;124;43m\"\u001b[39;49m\u001b[38;5;124;43mCÓDIGO OACI_dest\u001b[39;49m\u001b[38;5;124;43m\"\u001b[39;49m\u001b[43m]\u001b[49m \u001b[38;5;241m==\u001b[39m aeroportos_voo_orig_dest_aoci[\u001b[38;5;124m\"\u001b[39m\u001b[38;5;124mCÓDIGO OACI_dest\u001b[39m\u001b[38;5;124m\"\u001b[39m]),\n\u001b[1;32m     18\u001b[0m     \u001b[38;5;124m\"\u001b[39m\u001b[38;5;124mleft\u001b[39m\u001b[38;5;124m\"\u001b[39m\n\u001b[1;32m     19\u001b[0m )\n",
      "File \u001b[0;32m/opt/homebrew/Cellar/jupyterlab/4.2.5_1/libexec/lib/python3.12/site-packages/pyspark/sql/dataframe.py:3080\u001b[0m, in \u001b[0;36mDataFrame.__getitem__\u001b[0;34m(self, item)\u001b[0m\n\u001b[1;32m   3008\u001b[0m \u001b[38;5;250m\u001b[39m\u001b[38;5;124;03m\"\"\"Returns the column as a :class:`Column`.\u001b[39;00m\n\u001b[1;32m   3009\u001b[0m \n\u001b[1;32m   3010\u001b[0m \u001b[38;5;124;03m.. versionadded:: 1.3.0\u001b[39;00m\n\u001b[0;32m   (...)\u001b[0m\n\u001b[1;32m   3077\u001b[0m \u001b[38;5;124;03m+---+----+\u001b[39;00m\n\u001b[1;32m   3078\u001b[0m \u001b[38;5;124;03m\"\"\"\u001b[39;00m\n\u001b[1;32m   3079\u001b[0m \u001b[38;5;28;01mif\u001b[39;00m \u001b[38;5;28misinstance\u001b[39m(item, \u001b[38;5;28mstr\u001b[39m):\n\u001b[0;32m-> 3080\u001b[0m     jc \u001b[38;5;241m=\u001b[39m \u001b[38;5;28;43mself\u001b[39;49m\u001b[38;5;241;43m.\u001b[39;49m\u001b[43m_jdf\u001b[49m\u001b[38;5;241;43m.\u001b[39;49m\u001b[43mapply\u001b[49m\u001b[43m(\u001b[49m\u001b[43mitem\u001b[49m\u001b[43m)\u001b[49m\n\u001b[1;32m   3081\u001b[0m     \u001b[38;5;28;01mreturn\u001b[39;00m Column(jc)\n\u001b[1;32m   3082\u001b[0m \u001b[38;5;28;01melif\u001b[39;00m \u001b[38;5;28misinstance\u001b[39m(item, Column):\n",
      "File \u001b[0;32m/opt/homebrew/Cellar/jupyterlab/4.2.5_1/libexec/lib/python3.12/site-packages/py4j/java_gateway.py:1322\u001b[0m, in \u001b[0;36mJavaMember.__call__\u001b[0;34m(self, *args)\u001b[0m\n\u001b[1;32m   1316\u001b[0m command \u001b[38;5;241m=\u001b[39m proto\u001b[38;5;241m.\u001b[39mCALL_COMMAND_NAME \u001b[38;5;241m+\u001b[39m\\\n\u001b[1;32m   1317\u001b[0m     \u001b[38;5;28mself\u001b[39m\u001b[38;5;241m.\u001b[39mcommand_header \u001b[38;5;241m+\u001b[39m\\\n\u001b[1;32m   1318\u001b[0m     args_command \u001b[38;5;241m+\u001b[39m\\\n\u001b[1;32m   1319\u001b[0m     proto\u001b[38;5;241m.\u001b[39mEND_COMMAND_PART\n\u001b[1;32m   1321\u001b[0m answer \u001b[38;5;241m=\u001b[39m \u001b[38;5;28mself\u001b[39m\u001b[38;5;241m.\u001b[39mgateway_client\u001b[38;5;241m.\u001b[39msend_command(command)\n\u001b[0;32m-> 1322\u001b[0m return_value \u001b[38;5;241m=\u001b[39m \u001b[43mget_return_value\u001b[49m\u001b[43m(\u001b[49m\n\u001b[1;32m   1323\u001b[0m \u001b[43m    \u001b[49m\u001b[43manswer\u001b[49m\u001b[43m,\u001b[49m\u001b[43m \u001b[49m\u001b[38;5;28;43mself\u001b[39;49m\u001b[38;5;241;43m.\u001b[39;49m\u001b[43mgateway_client\u001b[49m\u001b[43m,\u001b[49m\u001b[43m \u001b[49m\u001b[38;5;28;43mself\u001b[39;49m\u001b[38;5;241;43m.\u001b[39;49m\u001b[43mtarget_id\u001b[49m\u001b[43m,\u001b[49m\u001b[43m \u001b[49m\u001b[38;5;28;43mself\u001b[39;49m\u001b[38;5;241;43m.\u001b[39;49m\u001b[43mname\u001b[49m\u001b[43m)\u001b[49m\n\u001b[1;32m   1325\u001b[0m \u001b[38;5;28;01mfor\u001b[39;00m temp_arg \u001b[38;5;129;01min\u001b[39;00m temp_args:\n\u001b[1;32m   1326\u001b[0m     \u001b[38;5;28;01mif\u001b[39;00m \u001b[38;5;28mhasattr\u001b[39m(temp_arg, \u001b[38;5;124m\"\u001b[39m\u001b[38;5;124m_detach\u001b[39m\u001b[38;5;124m\"\u001b[39m):\n",
      "File \u001b[0;32m/opt/homebrew/Cellar/jupyterlab/4.2.5_1/libexec/lib/python3.12/site-packages/pyspark/errors/exceptions/captured.py:185\u001b[0m, in \u001b[0;36mcapture_sql_exception.<locals>.deco\u001b[0;34m(*a, **kw)\u001b[0m\n\u001b[1;32m    181\u001b[0m converted \u001b[38;5;241m=\u001b[39m convert_exception(e\u001b[38;5;241m.\u001b[39mjava_exception)\n\u001b[1;32m    182\u001b[0m \u001b[38;5;28;01mif\u001b[39;00m \u001b[38;5;129;01mnot\u001b[39;00m \u001b[38;5;28misinstance\u001b[39m(converted, UnknownException):\n\u001b[1;32m    183\u001b[0m     \u001b[38;5;66;03m# Hide where the exception came from that shows a non-Pythonic\u001b[39;00m\n\u001b[1;32m    184\u001b[0m     \u001b[38;5;66;03m# JVM exception message.\u001b[39;00m\n\u001b[0;32m--> 185\u001b[0m     \u001b[38;5;28;01mraise\u001b[39;00m converted \u001b[38;5;28;01mfrom\u001b[39;00m \u001b[38;5;28;01mNone\u001b[39;00m\n\u001b[1;32m    186\u001b[0m \u001b[38;5;28;01melse\u001b[39;00m:\n\u001b[1;32m    187\u001b[0m     \u001b[38;5;28;01mraise\u001b[39;00m\n",
      "\u001b[0;31mAnalysisException\u001b[0m: [UNRESOLVED_COLUMN.WITH_SUGGESTION] A column or function parameter with name `CÓDIGO OACI_dest` cannot be resolved. Did you mean one of the following? [`Sigla ICAO Empresa Aérea`, `Empresa Aérea`, `Número Voo`, `Código DI`, `Código Tipo Linha`, `Modelo Equipamento`, `Número de Assentos`, `Sigla ICAO Aeroporto Origem`, `Descrição Aeroporto Origem`, `Partida Prevista`, `Partida Real`, `Sigla ICAO Aeroporto Destino`, `Descrição Aeroporto Destino`, `Chegada Prevista`, `Chegada Real`, `Situação Voo`, `Justificativa`, `Referência`, `Situação Partida`, `Situação Chegada`]."
     ]
    }
   ],
   "source": [
    "#voos_domesticos_aux = voos_domesticos.drop('LONGITUDE_dest')\n",
    "#voos_domesticos_aux = voos_domesticos_aux.drop('LATITUDE_dest')\n",
    "#voos_domesticos_aux = voos_domesticos_aux.drop('LATITUDE_orig')\n",
    "#voos_domesticos_aux = voos_domesticos_aux.drop('LONGITUDE_orig')\n",
    "\n",
    "\n",
    "voos_atualizados_dest = voos_domesticos_aux.join(\n",
    "    aeroportos_voo_orig_dest_aoci.select(\n",
    "        col(\"Sigla ICAO Empresa Aérea\"),\n",
    "        col(\"Número Voo\"),\n",
    "        col(\"CÓDIGO OACI_dest\").alias(\"CÓDIGO OACI_dest\"),\n",
    "        col(\"LATITUDE_dest\"),\n",
    "        col(\"LONGITUDE_dest\")\n",
    "    ),\n",
    "    (voos_domesticos[\"Sigla ICAO Empresa Aérea\"] == aeroportos_voo_orig_dest_aoci[\"Sigla ICAO Empresa Aérea\"]) &\n",
    "    (voos_domesticos[\"Número Voo\"] == aeroportos_voo_orig_dest_aoci[\"Número Voo\"]) &\n",
    "    (voos_domesticos[\"CÓDIGO OACI_dest\"] == aeroportos_voo_orig_dest_aoci[\"CÓDIGO OACI_dest\"]),\n",
    "    \"left\"\n",
    ")"
   ]
  },
  {
   "cell_type": "code",
   "execution_count": 38,
   "id": "85441653-fd3e-4c0a-ad9a-bb81eeeb95e6",
   "metadata": {},
   "outputs": [
    {
     "ename": "NameError",
     "evalue": "name 'col' is not defined",
     "output_type": "error",
     "traceback": [
      "\u001b[0;31m---------------------------------------------------------------------------\u001b[0m",
      "\u001b[0;31mNameError\u001b[0m                                 Traceback (most recent call last)",
      "Cell \u001b[0;32mIn[38], line 3\u001b[0m\n\u001b[1;32m      1\u001b[0m voos_atualizados_orig \u001b[38;5;241m=\u001b[39m voos_domesticos_aux\u001b[38;5;241m.\u001b[39mjoin(\n\u001b[1;32m      2\u001b[0m     aeroportos_voo_orig_join_aoci\u001b[38;5;241m.\u001b[39mselect(\n\u001b[0;32m----> 3\u001b[0m         \u001b[43mcol\u001b[49m(\u001b[38;5;124m\"\u001b[39m\u001b[38;5;124mSigla ICAO Empresa Aérea\u001b[39m\u001b[38;5;124m\"\u001b[39m),\n\u001b[1;32m      4\u001b[0m         col(\u001b[38;5;124m\"\u001b[39m\u001b[38;5;124mNúmero Voo\u001b[39m\u001b[38;5;124m\"\u001b[39m),\n\u001b[1;32m      5\u001b[0m         col(\u001b[38;5;124m\"\u001b[39m\u001b[38;5;124mCÓDIGO OACI_orig\u001b[39m\u001b[38;5;124m\"\u001b[39m)\u001b[38;5;241m.\u001b[39malias(\u001b[38;5;124m\"\u001b[39m\u001b[38;5;124mCÓDIGO OACI_orig\u001b[39m\u001b[38;5;124m\"\u001b[39m),\n\u001b[1;32m      6\u001b[0m         col(\u001b[38;5;124m\"\u001b[39m\u001b[38;5;124mLATITUDE_orig\u001b[39m\u001b[38;5;124m\"\u001b[39m),\n\u001b[1;32m      7\u001b[0m         col(\u001b[38;5;124m\"\u001b[39m\u001b[38;5;124mLONGITUDE_orig\u001b[39m\u001b[38;5;124m\"\u001b[39m)\n\u001b[1;32m      8\u001b[0m     ),\n\u001b[1;32m      9\u001b[0m     (voos_domesticos[\u001b[38;5;124m\"\u001b[39m\u001b[38;5;124mSigla ICAO Empresa Aérea\u001b[39m\u001b[38;5;124m\"\u001b[39m] \u001b[38;5;241m==\u001b[39m aeroportos_voo_orig_dest_aoci[\u001b[38;5;124m\"\u001b[39m\u001b[38;5;124mSigla ICAO Empresa Aérea\u001b[39m\u001b[38;5;124m\"\u001b[39m]) \u001b[38;5;241m&\u001b[39m\n\u001b[1;32m     10\u001b[0m     (voos_domesticos[\u001b[38;5;124m\"\u001b[39m\u001b[38;5;124mNúmero Voo\u001b[39m\u001b[38;5;124m\"\u001b[39m] \u001b[38;5;241m==\u001b[39m aeroportos_voo_orig_dest_aoci[\u001b[38;5;124m\"\u001b[39m\u001b[38;5;124mNúmero Voo\u001b[39m\u001b[38;5;124m\"\u001b[39m]) \u001b[38;5;241m&\u001b[39m\n\u001b[1;32m     11\u001b[0m     (voos_domesticos[\u001b[38;5;124m\"\u001b[39m\u001b[38;5;124mCÓDIGO OACI_orig\u001b[39m\u001b[38;5;124m\"\u001b[39m] \u001b[38;5;241m==\u001b[39m aeroportos_voo_orig_dest_aoci[\u001b[38;5;124m\"\u001b[39m\u001b[38;5;124mCÓDIGO OACI_orig\u001b[39m\u001b[38;5;124m\"\u001b[39m]),\n\u001b[1;32m     12\u001b[0m     \u001b[38;5;124m\"\u001b[39m\u001b[38;5;124mleft\u001b[39m\u001b[38;5;124m\"\u001b[39m\n\u001b[1;32m     13\u001b[0m )\n",
      "\u001b[0;31mNameError\u001b[0m: name 'col' is not defined"
     ]
    }
   ],
   "source": [
    "voos_atualizados_orig = voos_domesticos_aux.join(\n",
    "    aeroportos_voo_orig_join_aoci.select(\n",
    "        col(\"Sigla ICAO Empresa Aérea\"),\n",
    "        col(\"Número Voo\"),\n",
    "        col(\"CÓDIGO OACI_orig\").alias(\"CÓDIGO OACI_orig\"),\n",
    "        col(\"LATITUDE_orig\"),\n",
    "        col(\"LONGITUDE_orig\")\n",
    "    ),\n",
    "    (voos_domesticos[\"Sigla ICAO Empresa Aérea\"] == aeroportos_voo_orig_dest_aoci[\"Sigla ICAO Empresa Aérea\"]) &\n",
    "    (voos_domesticos[\"Número Voo\"] == aeroportos_voo_orig_dest_aoci[\"Número Voo\"]) &\n",
    "    (voos_domesticos[\"CÓDIGO OACI_orig\"] == aeroportos_voo_orig_dest_aoci[\"CÓDIGO OACI_orig\"]),\n",
    "    \"left\"\n",
    ")"
   ]
  },
  {
   "cell_type": "code",
   "execution_count": 127,
   "id": "aae052c1-4e23-4997-8bc4-bb0103772e06",
   "metadata": {},
   "outputs": [],
   "source": [
    "voos_combined = voos_atualizados_orig.join(\n",
    "    voos_atualizados_dest,\n",
    "    on=[\"Sigla ICAO Empresa Aérea\", \"Número Voo\"],\n",
    "    how=\"left\"\n",
    ")"
   ]
  },
  {
   "cell_type": "code",
   "execution_count": 39,
   "id": "6a780e98-400b-4f8c-b792-e47e4c531339",
   "metadata": {
    "collapsed": true,
    "jupyter": {
     "outputs_hidden": true
    }
   },
   "outputs": [
    {
     "ename": "NameError",
     "evalue": "name 'voos_combined' is not defined",
     "output_type": "error",
     "traceback": [
      "\u001b[0;31m---------------------------------------------------------------------------\u001b[0m",
      "\u001b[0;31mNameError\u001b[0m                                 Traceback (most recent call last)",
      "Cell \u001b[0;32mIn[39], line 2\u001b[0m\n\u001b[1;32m      1\u001b[0m \u001b[38;5;28;01mfrom\u001b[39;00m \u001b[38;5;21;01mpyspark\u001b[39;00m\u001b[38;5;21;01m.\u001b[39;00m\u001b[38;5;21;01msql\u001b[39;00m\u001b[38;5;21;01m.\u001b[39;00m\u001b[38;5;21;01mfunctions\u001b[39;00m \u001b[38;5;28;01mimport\u001b[39;00m col\n\u001b[0;32m----> 2\u001b[0m voos_domesticos \u001b[38;5;241m=\u001b[39m \u001b[43mvoos_combined\u001b[49m \\\n\u001b[1;32m      3\u001b[0m     \u001b[38;5;241m.\u001b[39mwithColumn(\u001b[38;5;124m'\u001b[39m\u001b[38;5;124mLATITUDE_orig\u001b[39m\u001b[38;5;124m'\u001b[39m, col(\u001b[38;5;124m'\u001b[39m\u001b[38;5;124mLATITUDE_orig\u001b[39m\u001b[38;5;124m'\u001b[39m)\u001b[38;5;241m.\u001b[39mcast(\u001b[38;5;124m'\u001b[39m\u001b[38;5;124mfloat\u001b[39m\u001b[38;5;124m'\u001b[39m)) \\\n\u001b[1;32m      4\u001b[0m     \u001b[38;5;241m.\u001b[39mwithColumn(\u001b[38;5;124m'\u001b[39m\u001b[38;5;124mLONGITUDE_orig\u001b[39m\u001b[38;5;124m'\u001b[39m, col(\u001b[38;5;124m'\u001b[39m\u001b[38;5;124mLONGITUDE_orig\u001b[39m\u001b[38;5;124m'\u001b[39m)\u001b[38;5;241m.\u001b[39mcast(\u001b[38;5;124m'\u001b[39m\u001b[38;5;124mfloat\u001b[39m\u001b[38;5;124m'\u001b[39m)) \\\n\u001b[1;32m      5\u001b[0m     \u001b[38;5;241m.\u001b[39mwithColumn(\u001b[38;5;124m'\u001b[39m\u001b[38;5;124mLATITUDE_dest\u001b[39m\u001b[38;5;124m'\u001b[39m, col(\u001b[38;5;124m'\u001b[39m\u001b[38;5;124mLATITUDE_dest\u001b[39m\u001b[38;5;124m'\u001b[39m)\u001b[38;5;241m.\u001b[39mcast(\u001b[38;5;124m'\u001b[39m\u001b[38;5;124mfloat\u001b[39m\u001b[38;5;124m'\u001b[39m)) \\\n\u001b[1;32m      6\u001b[0m     \u001b[38;5;241m.\u001b[39mwithColumn(\u001b[38;5;124m'\u001b[39m\u001b[38;5;124mLONGITUDE_dest\u001b[39m\u001b[38;5;124m'\u001b[39m, col(\u001b[38;5;124m'\u001b[39m\u001b[38;5;124mLONGITUDE_dest\u001b[39m\u001b[38;5;124m'\u001b[39m)\u001b[38;5;241m.\u001b[39mcast(\u001b[38;5;124m'\u001b[39m\u001b[38;5;124mfloat\u001b[39m\u001b[38;5;124m'\u001b[39m))\n",
      "\u001b[0;31mNameError\u001b[0m: name 'voos_combined' is not defined"
     ]
    }
   ],
   "source": [
    "from pyspark.sql.functions import col\n",
    "voos_domesticos = voos_combined \\\n",
    "    .withColumn('LATITUDE_orig', col('LATITUDE_orig').cast('float')) \\\n",
    "    .withColumn('LONGITUDE_orig', col('LONGITUDE_orig').cast('float')) \\\n",
    "    .withColumn('LATITUDE_dest', col('LATITUDE_dest').cast('float')) \\\n",
    "    .withColumn('LONGITUDE_dest', col('LONGITUDE_dest').cast('float'))"
   ]
  },
  {
   "cell_type": "markdown",
   "id": "ddcccc1c-2885-42cf-8668-43de5b968adf",
   "metadata": {},
   "source": [
    "# 3\n",
    "Na base disponibilizada não temos os assentos ocupados,\n",
    "somente os assentos totais das aeronaves, de forma\n",
    "randômica criem a informação de assentos ocupados sendo\n",
    "que a logica deve obedecer ao critério de no mínimo 50% de\n",
    "ocupação e no máximo 95% de ocupação"
   ]
  },
  {
   "cell_type": "code",
   "execution_count": 95,
   "id": "d3054b2a-61a7-4e48-88e5-13d3aa11b351",
   "metadata": {},
   "outputs": [
    {
     "name": "stdout",
     "output_type": "stream",
     "text": [
      "-RECORD 0---------------------------------------------------------------------------------------\n",
      " Sigla ICAO Empresa Aérea     | 1ED                                                             \n",
      " Empresa Aérea                | SERVICIOS AÉREOS PANAMERICANOS LTDA. SARPA S.A.S                \n",
      " Número Voo                   | 5330                                                            \n",
      " Código DI                    | 7                                                               \n",
      " Código Tipo Linha            | I                                                               \n",
      " Modelo Equipamento           | E145                                                            \n",
      " Número de Assentos           | 50                                                              \n",
      " Sigla ICAO Aeroporto Origem  | SKLT                                                            \n",
      " Descrição Aeroporto Origem   | ALFREDO VÁSQUEZ COBO INTERNATIONAL AIRPORT - LETICIA - COLÔMBIA \n",
      " Partida Prevista             | 27/08/2023 18:10                                                \n",
      " Partida Real                 | 27/08/2023 19:00                                                \n",
      " Sigla ICAO Aeroporto Destino | SLVR                                                            \n",
      " Descrição Aeroporto Destino  | VIRU VIRU INTERNATIONAL AIRPORT - SANTA CRUZ - BOLÍVIA          \n",
      " Chegada Prevista             | 27/08/2023 21:00                                                \n",
      " Chegada Real                 | 27/08/2023 21:50                                                \n",
      " Situação Voo                 | REALIZADO                                                       \n",
      " Justificativa                | NULL                                                            \n",
      " Referência                   | 27/08/2023 00:00:00                                             \n",
      " Situação Partida             | Atraso 30-60                                                    \n",
      " Situação Chegada             | Atraso 30-60                                                    \n",
      "only showing top 1 row\n",
      "\n"
     ]
    }
   ],
   "source": [
    "voos.show(1, False, vertical=True)"
   ]
  },
  {
   "cell_type": "code",
   "execution_count": null,
   "id": "e235227b-73d5-4b20-98cd-ce3b613c2ef9",
   "metadata": {},
   "outputs": [],
   "source": [
    "from pyspark.sql import functions as F"
   ]
  },
  {
   "cell_type": "code",
   "execution_count": 97,
   "id": "8c46817c-17cc-4612-a5bb-5d5086781322",
   "metadata": {},
   "outputs": [],
   "source": [
    "min_ocupacao = 0.5  \n",
    "max_ocupacao = 0.95 \n",
    "\n",
    "voos_with_occupation = voos.withColumn(\n",
    "    \"assentos_preenchidos\",\n",
    "    F.floor(\n",
    "        (min_ocupacao + (max_ocupacao - min_ocupacao) * F.rand()) * F.col(\"Número de Assentos\")\n",
    "    )\n",
    ")"
   ]
  },
  {
   "cell_type": "code",
   "execution_count": 98,
   "id": "69e396a6-22e1-4257-b8c6-da40ace8fca9",
   "metadata": {},
   "outputs": [
    {
     "name": "stdout",
     "output_type": "stream",
     "text": [
      "-RECORD 0---------------------------------------------------------------------------------------\n",
      " Sigla ICAO Empresa Aérea     | 1ED                                                             \n",
      " Empresa Aérea                | SERVICIOS AÉREOS PANAMERICANOS LTDA. SARPA S.A.S                \n",
      " Número Voo                   | 5330                                                            \n",
      " Código DI                    | 7                                                               \n",
      " Código Tipo Linha            | I                                                               \n",
      " Modelo Equipamento           | E145                                                            \n",
      " Número de Assentos           | 50                                                              \n",
      " Sigla ICAO Aeroporto Origem  | SKLT                                                            \n",
      " Descrição Aeroporto Origem   | ALFREDO VÁSQUEZ COBO INTERNATIONAL AIRPORT - LETICIA - COLÔMBIA \n",
      " Partida Prevista             | 27/08/2023 18:10                                                \n",
      " Partida Real                 | 27/08/2023 19:00                                                \n",
      " Sigla ICAO Aeroporto Destino | SLVR                                                            \n",
      " Descrição Aeroporto Destino  | VIRU VIRU INTERNATIONAL AIRPORT - SANTA CRUZ - BOLÍVIA          \n",
      " Chegada Prevista             | 27/08/2023 21:00                                                \n",
      " Chegada Real                 | 27/08/2023 21:50                                                \n",
      " Situação Voo                 | REALIZADO                                                       \n",
      " Justificativa                | NULL                                                            \n",
      " Referência                   | 27/08/2023 00:00:00                                             \n",
      " Situação Partida             | Atraso 30-60                                                    \n",
      " Situação Chegada             | Atraso 30-60                                                    \n",
      " assentos_preenchidos         | 42                                                              \n",
      "only showing top 1 row\n",
      "\n"
     ]
    }
   ],
   "source": [
    "voos_with_occupation.show(1, False, vertical=True)"
   ]
  },
  {
   "cell_type": "markdown",
   "id": "88ee0934-d9b5-4e07-ac67-e1e48731cfde",
   "metadata": {},
   "source": [
    "# Exercício 4\n",
    "Gerar dados de reclamações por origem dos voos para ter a\n",
    "proporcionalidade de reclamações"
   ]
  },
  {
   "cell_type": "code",
   "execution_count": 101,
   "id": "deb2ad42-4fc5-412c-be4d-272d1588c9ed",
   "metadata": {
    "collapsed": true,
    "jupyter": {
     "outputs_hidden": true
    }
   },
   "outputs": [
    {
     "name": "stderr",
     "output_type": "stream",
     "text": [
      "24/10/09 19:29:36 WARN TaskSetManager: Stage 90 contains a task of very large size (1980 KiB). The maximum recommended task size is 1000 KiB.\n",
      "[Stage 90:>                                                         (0 + 1) / 1]\r"
     ]
    },
    {
     "name": "stdout",
     "output_type": "stream",
     "text": [
      "-RECORD 0--------------------------------------------------------------------------------------------------------------\n",
      " Gestor                         | Secretaria Nacional do Consumidor                                                    \n",
      " Região                         | CO                                                                                   \n",
      " UF                             | DF                                                                                   \n",
      " Cidade                         | Brasília                                                                             \n",
      " Ano Abertura                   | 2022                                                                                 \n",
      " Mês Abertura                   | 1                                                                                    \n",
      " Data Abertura                  | 2022-01-01                                                                           \n",
      " Data e Hora Resposta           | 2022-01-03 16:59:07                                                                  \n",
      " Data e Hora Análise            | NaN                                                                                  \n",
      " Data e Hora Recusa             | NaN                                                                                  \n",
      " Data Finalização               | 2022-01-07                                                                           \n",
      " Prazo Resposta                 | 2022-01-11                                                                           \n",
      " Prazo Análise Gestor (em dias) | NaN                                                                                  \n",
      " Tempo Resposta (em dias)       | 2.0                                                                                  \n",
      " Nome Fantasia                  | Gol Linhas Aéreas                                                                    \n",
      " Área                           | Transportes                                                                          \n",
      " Assunto                        | Aéreo                                                                                \n",
      " Grupo Problema                 | Cobrança / Contestação                                                               \n",
      " Problema                       | Dificuldade / atraso na devolução de valores pagos / reembolso / retenção de valores \n",
      " Forma Contrato                 | Internet                                                                             \n",
      " Procurou Empresa               | S                                                                                    \n",
      " Respondida                     | S                                                                                    \n",
      " Situação                       | Finalizada avaliada                                                                  \n",
      " Avaliação Reclamação           | Resolvida                                                                            \n",
      " Nota do Consumidor             | 5.0                                                                                  \n",
      " Edição de Conteúdo             | N                                                                                    \n",
      " Interação do Gestor            | N                                                                                    \n",
      " Código Classificador ANAC      | S;M;W;D;P;1100                                                                       \n",
      "only showing top 1 row\n",
      "\n"
     ]
    },
    {
     "name": "stderr",
     "output_type": "stream",
     "text": [
      "24/10/09 19:29:40 WARN PythonRunner: Detected deadlock while completing task 0.0 in stage 90 (TID 240): Attempting to kill Python Worker\n",
      "                                                                                \r"
     ]
    }
   ],
   "source": [
    "reclamacoes.show(1, False, vertical=True)"
   ]
  },
  {
   "cell_type": "code",
   "execution_count": 102,
   "id": "d084d58d-1fdf-4021-8496-fdbe28ebfcf0",
   "metadata": {
    "collapsed": true,
    "jupyter": {
     "outputs_hidden": true
    }
   },
   "outputs": [
    {
     "name": "stderr",
     "output_type": "stream",
     "text": [
      "[Stage 91:>                                                         (0 + 8) / 8]\r"
     ]
    },
    {
     "name": "stdout",
     "output_type": "stream",
     "text": [
      "+---------------------------+----------+\n",
      "|Sigla ICAO Aeroporto Origem|Total_Voos|\n",
      "+---------------------------+----------+\n",
      "|                       SBPS|     12266|\n",
      "|                       SNSS|       105|\n",
      "|                       SBBU|         1|\n",
      "|                       LFPG|      2581|\n",
      "|                       OKBK|         2|\n",
      "|                       SBIH|       569|\n",
      "|                       SBSJ|       339|\n",
      "|                       SSSC|       209|\n",
      "|                       SNTO|       400|\n",
      "|                       SCIE|         6|\n",
      "|                       SBCH|      3909|\n",
      "|                       SNCL|       685|\n",
      "|                       SAZY|        14|\n",
      "|                       SBCR|       355|\n",
      "|                       SNIG|       159|\n",
      "|                       SBUG|       720|\n",
      "|                       SN6L|        71|\n",
      "|                       SBSG|     14459|\n",
      "|                       SWLV|         1|\n",
      "|                       SBSO|       436|\n",
      "+---------------------------+----------+\n",
      "only showing top 20 rows\n",
      "\n"
     ]
    },
    {
     "name": "stderr",
     "output_type": "stream",
     "text": [
      "                                                                                \r"
     ]
    }
   ],
   "source": [
    "voos_por_origem = voos.groupBy(\"Sigla ICAO Aeroporto Origem\").agg(F.count(\"*\").alias(\"Total_Voos\"))"
   ]
  },
  {
   "cell_type": "code",
   "execution_count": 103,
   "id": "18a86e0c-ba57-407a-85c8-4e38cf3fc2c3",
   "metadata": {
    "collapsed": true,
    "jupyter": {
     "outputs_hidden": true
    }
   },
   "outputs": [
    {
     "name": "stderr",
     "output_type": "stream",
     "text": [
      "[Stage 94:>                                                         (0 + 8) / 8]\r"
     ]
    },
    {
     "name": "stdout",
     "output_type": "stream",
     "text": [
      "+---------------------------+----------+-----------------+\n",
      "|Sigla ICAO Aeroporto Origem|Total_Voos|Total_Reclamacoes|\n",
      "+---------------------------+----------+-----------------+\n",
      "|                       SBPS|     12266|             1226|\n",
      "|                       SNSS|       105|               10|\n",
      "|                       SBBU|         1|                0|\n",
      "|                       LFPG|      2581|              258|\n",
      "|                       OKBK|         2|                0|\n",
      "|                       SBIH|       569|               56|\n",
      "|                       SBSJ|       339|               33|\n",
      "|                       SSSC|       209|               20|\n",
      "|                       SNTO|       400|               40|\n",
      "|                       SCIE|         6|                0|\n",
      "|                       SBCH|      3909|              390|\n",
      "|                       SNCL|       685|               68|\n",
      "|                       SAZY|        14|                1|\n",
      "|                       SBCR|       355|               35|\n",
      "|                       SNIG|       159|               15|\n",
      "|                       SBUG|       720|               72|\n",
      "|                       SN6L|        71|                7|\n",
      "|                       SBSG|     14459|             1445|\n",
      "|                       SWLV|         1|                0|\n",
      "|                       SBSO|       436|               43|\n",
      "+---------------------------+----------+-----------------+\n",
      "only showing top 20 rows\n",
      "\n"
     ]
    },
    {
     "name": "stderr",
     "output_type": "stream",
     "text": [
      "                                                                                \r"
     ]
    }
   ],
   "source": [
    "percentual_reclamacoes = 0.10  \n",
    "reclamacoes_estimadas = voos_por_origem.withColumn(\n",
    "    \"Total_Reclamacoes\",\n",
    "    (F.col(\"Total_Voos\") * percentual_reclamacoes).cast(\"integer\")\n",
    ")"
   ]
  },
  {
   "cell_type": "markdown",
   "id": "bc119b55-f4ff-4969-9ae3-165018d5695e",
   "metadata": {},
   "source": [
    "# 6\n",
    "Classificar os voos conforme a situação de partida. Todas as\n",
    "linhas necessitam ter uma classificação"
   ]
  },
  {
   "cell_type": "code",
   "execution_count": 108,
   "id": "14bb8d23-18b9-4a08-9e63-46131f39589c",
   "metadata": {},
   "outputs": [],
   "source": [
    "from pyspark.sql.functions import udf\n",
    "from pyspark.sql.types import StringType\n",
    "def classificar_situacao(situacao):\n",
    "    if situacao is None:\n",
    "        return \"Indefinido\"\n",
    "    elif \"Atraso\" in situacao:\n",
    "        return \"Atrasado\"\n",
    "    elif \"REALIZADO\" in situacao: \n",
    "        return \"Realizado\"\n",
    "    else:\n",
    "        return \"Outro\"\n",
    "\n",
    "\n",
    "classificar_udf = udf(classificar_situacao, StringType())"
   ]
  },
  {
   "cell_type": "code",
   "execution_count": null,
   "id": "8149ba68-eb20-4d94-9b69-49b5ee600bba",
   "metadata": {},
   "outputs": [],
   "source": [
    "voos_classificados = voos_with_occupation.withColumn(\"Classificacao_Situacao\", classificar_udf(voos_with_occupation[\"Situação Partida\"]))\n",
    "voos_classificados.select(\"Número Voo\", \"Situação Partida\", \"Classificacao_Situacao\").show(truncate=False)"
   ]
  }
 ],
 "metadata": {
  "kernelspec": {
   "display_name": "Python 3 (ipykernel)",
   "language": "python",
   "name": "python3"
  },
  "language_info": {
   "codemirror_mode": {
    "name": "ipython",
    "version": 3
   },
   "file_extension": ".py",
   "mimetype": "text/x-python",
   "name": "python",
   "nbconvert_exporter": "python",
   "pygments_lexer": "ipython3",
   "version": "3.12.7"
  }
 },
 "nbformat": 4,
 "nbformat_minor": 5
}
